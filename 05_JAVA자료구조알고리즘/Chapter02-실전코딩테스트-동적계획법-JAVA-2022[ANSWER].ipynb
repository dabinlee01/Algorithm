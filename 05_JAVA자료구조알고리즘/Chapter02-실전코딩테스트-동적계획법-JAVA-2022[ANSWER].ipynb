{
 "cells": [
  {
   "cell_type": "markdown",
   "id": "bc45d590",
   "metadata": {},
   "source": [
    "<div class=\"alert alert-block\" style=\"border: 1px solid #455A64;background-color:#ECEFF1;padding:5px;font-size:0.9em;\">\n",
    "본 자료와 관련 영상 컨텐츠는 저작권법 제25조 2항에 의해 보호를 받습니다. <br>본 컨텐츠 및 컨텐츠 일부 문구 등을 외부에 공개하거나, 요약해서 게시하지 말아주세요.<br>\n",
    "    <a href='https://www.fun-coding.org'>잔재미코딩(www.fun-coding.org) Dave Lee</a>\n",
    "</div>"
   ]
  },
  {
   "cell_type": "markdown",
   "id": "55f80c88",
   "metadata": {
    "pycharm": {
     "name": "#%% md\n"
    }
   },
   "source": [
    "<div class=\"alert alert-block\" style=\"border: 2px solid #E65100;background-color:#FFF3E0;padding:10px\">\n",
    "<font size=\"4em\" style=\"font-weight:bold;color:#BF360C;\">코딩 테스트 학습 팁</font><br><br>\n",
    "<font size=\"3em\" style=\"color:#BF360C;\">알고리즘을 익힌 후, 해당 알고리즘과 관련된 문제만 연이어서 쭈욱 풀어보는 방식이 가장 좋습니다</font><br>\n",
    "<font size=\"3em\" style=\"color:#BF360C;\">처음 알고리즘을 익힐 때는 알고리즘을 익힐 때 풀이한 문제를 중심으로 하되,</font><br>\n",
    "<font size=\"3em\" style=\"color:#BF360C;\">필요하면 감을 가지기 위해 여기에 최대한 가장 쉬운 한 두 문제를 푸시고,</font>\n",
    "<font size=\"3em\" style=\"color:#BF360C;\">전체 알고리즘을 다 익힌 후, 가능하면</font><br> \n",
    "<font size=\"3em\" style=\"color:#BF360C;\">각 알고리즘별로 며칠동안 해당 알고리즘 관련 문제만 묶어서 연이어 풀어보세요!</font>\n",
    "</div>"
   ]
  },
  {
   "cell_type": "markdown",
   "id": "8610cac5",
   "metadata": {
    "pycharm": {
     "name": "#%% md\n"
    }
   },
   "source": [
    "### 실전 코딩 테스트 - 동적 계획법"
   ]
  },
  {
   "cell_type": "markdown",
   "id": "fa0c7cbf",
   "metadata": {},
   "source": [
    "### 0. 세상에서 가장 쉽게! 코딩 패턴 익히기 (동적 계획법)\n",
    "- 할 수 있따!!!!\n",
    "```java\n",
    "int N = 7; // 출력해야 하는 N 번째 (보통 입력으로 주어짐, Integer.parseInt(br.readLine()))\n",
    "int[] dp = new int[N + 1];\n",
    "dp[1] = 1; // 1번째의 결과값\n",
    "dp[2] = 2; // 2번째의 결과값\n",
    "for (int i = 3; i <= N; i++) { // (가장 처음 점화식으로 계산되는 번째, 최대치 + 1)\n",
    "    dp[index] = dp[index - 1] + dp[index - 2];\n",
    "}\n",
    "System.out.println(dp[N]); // N 번째 값 출력\n",
    "```"
   ]
  },
  {
   "cell_type": "markdown",
   "id": "bf848365",
   "metadata": {},
   "source": [
    "<div class=\"alert alert-block\" style=\"border: 2px solid #E65100;background-color:#FFF3E0;padding:10px\">\n",
    "<font size=\"4em\" style=\"font-weight:bold;color:#BF360C;\">연습1</font><br><br>\n",
    "<font size=\"3em\" style=\"color:#BF360C;\">점화식: dp[index] = dp[index - 1] + dp[index - 2]</font><br>\n",
    "<font size=\"3em\" style=\"color:#BF360C;\">초기값: dp[1] = 2,  dp[2] = 4</font><br>\n",
    "<font size=\"3em\" style=\"color:#BF360C;\">N 이 7번째 값 출력하기</font>    \n",
    "</div>"
   ]
  },
  {
   "cell_type": "code",
   "execution_count": 1,
   "id": "739bc4ea",
   "metadata": {},
   "outputs": [
    {
     "name": "stdout",
     "output_type": "stream",
     "text": [
      "42\n"
     ]
    }
   ],
   "source": [
    "import java.io.BufferedReader;\n",
    "import java.io.ByteArrayInputStream;\n",
    "import java.io.IOException;\n",
    "import java.io.InputStreamReader;\n",
    "import java.util.Arrays;\n",
    "import java.util.Collections;\n",
    "import java.util.StringTokenizer;\n",
    "\n",
    "public class Main {\n",
    "    public static void main(String[] args) throws IOException {\n",
    "\n",
    "        String inputData = \"\"\"\n",
    "        7\n",
    "        \"\"\";\n",
    "        System.setIn(new ByteArrayInputStream(inputData.getBytes()));\n",
    "\n",
    "        BufferedReader br = new BufferedReader(new InputStreamReader(System.in));\n",
    "        int N = Integer.parseInt(br.readLine());\n",
    "        int[] dp = new int[N + 1];\n",
    "        dp[1] = 2;\n",
    "        dp[2] = 4;\n",
    "        for (int i = 3; i <= N; i++) {\n",
    "            dp[i] = dp[i - 1] + dp[i - 2];\n",
    "        }\n",
    "        System.out.println(dp[N]);\n",
    "    }\n",
    "}\n",
    "Main.main(new String[0]);"
   ]
  },
  {
   "cell_type": "markdown",
   "id": "684ca851",
   "metadata": {},
   "source": [
    "<div class=\"alert alert-block\" style=\"border: 2px solid #E65100;background-color:#FFF3E0;padding:10px\">\n",
    "<font size=\"4em\" style=\"font-weight:bold;color:#BF360C;\">연습2</font><br><br>\n",
    "<font size=\"3em\" style=\"color:#BF360C;\">점화식: dp[index] = dp[index - 1] + dp[index - 3]</font><br>\n",
    "<font size=\"3em\" style=\"color:#BF360C;\">초기값: dp[1] = 3,  dp[2] = 5, dp[3] = 7</font><br>\n",
    "<font size=\"3em\" style=\"color:#BF360C;\">N 이 20번째 값 출력하기</font>    \n",
    "</div>"
   ]
  },
  {
   "cell_type": "code",
   "execution_count": 2,
   "id": "337cc652",
   "metadata": {},
   "outputs": [
    {
     "name": "stdout",
     "output_type": "stream",
     "text": [
      "4618\n"
     ]
    }
   ],
   "source": [
    "import java.io.BufferedReader;\n",
    "import java.io.ByteArrayInputStream;\n",
    "import java.io.IOException;\n",
    "import java.io.InputStreamReader;\n",
    "import java.util.Arrays;\n",
    "import java.util.Collections;\n",
    "import java.util.StringTokenizer;\n",
    "\n",
    "public class Main {\n",
    "    public static void main(String[] args) throws IOException {\n",
    "\n",
    "        String inputData = \"\"\"\n",
    "        20\n",
    "        \"\"\";\n",
    "        System.setIn(new ByteArrayInputStream(inputData.getBytes()));\n",
    "\n",
    "        BufferedReader br = new BufferedReader(new InputStreamReader(System.in));\n",
    "        int N = Integer.parseInt(br.readLine());\n",
    "        int[] dp = new int[N + 1];\n",
    "        dp[1] = 3;\n",
    "        dp[2] = 5;\n",
    "        dp[3] = 7;\n",
    "        for (int i = 4; i <= N; i++) {\n",
    "            dp[i] = dp[i - 1] + dp[i - 3];\n",
    "        }\n",
    "        System.out.println(dp[N]);\n",
    "    }\n",
    "}\n",
    "Main.main(new String[0]);"
   ]
  },
  {
   "cell_type": "markdown",
   "id": "c885407c",
   "metadata": {},
   "source": [
    "<div class=\"alert alert-block\" style=\"border: 2px solid #E65100;background-color:#FFF3E0;padding:10px\">\n",
    "<font size=\"4em\" style=\"font-weight:bold;color:#BF360C;\">연습3</font><br><br>\n",
    "<font size=\"3em\" style=\"color:#BF360C;\">점화식: dp[index] = dp[index - 1] + dp[index - 2] + dp[index - 3]</font><br>\n",
    "<font size=\"3em\" style=\"color:#BF360C;\">초기값: dp[1] = 1,  dp[2] = 2, dp[3] = 3</font><br>    \n",
    "<font size=\"3em\" style=\"color:#BF360C;\">N 이 50번째 값 출력하기</font>    \n",
    "</div>"
   ]
  },
  {
   "cell_type": "code",
   "execution_count": 4,
   "id": "5ca039f1",
   "metadata": {},
   "outputs": [
    {
     "name": "stdout",
     "output_type": "stream",
     "text": [
      "8864740270458\n"
     ]
    }
   ],
   "source": [
    "import java.io.BufferedReader;\n",
    "import java.io.ByteArrayInputStream;\n",
    "import java.io.IOException;\n",
    "import java.io.InputStreamReader;\n",
    "import java.util.Arrays;\n",
    "import java.util.Collections;\n",
    "import java.util.StringTokenizer;\n",
    "\n",
    "public class Main {\n",
    "    public static void main(String[] args) throws IOException {\n",
    "\n",
    "        String inputData = \"\"\"\n",
    "        50\n",
    "        \"\"\";\n",
    "        System.setIn(new ByteArrayInputStream(inputData.getBytes()));\n",
    "\n",
    "        BufferedReader br = new BufferedReader(new InputStreamReader(System.in));\n",
    "        int N = Integer.parseInt(br.readLine());\n",
    "        long[] dp = new long[N + 1];\n",
    "        dp[1] = 1;\n",
    "        dp[2] = 2;\n",
    "        dp[3] = 3;\n",
    "        for (int i = 4; i <= N; i++) {\n",
    "            dp[i] = dp[i - 1] + dp[i - 2] + dp[i - 3];\n",
    "        }\n",
    "        System.out.println(dp[N]);\n",
    "    }\n",
    "}\n",
    "Main.main(new String[0]);"
   ]
  },
  {
   "cell_type": "markdown",
   "id": "0aa8ec56",
   "metadata": {},
   "source": [
    "### 0. 연습문제: 피보나치수열 https://www.acmicpc.net/problem/2747\n",
    "\n",
    "<div class=\"alert alert-block\" style=\"border: 2px solid #E65100;background-color:#FFF3E0;padding:10px\">\n",
    "<font size=\"4em\" style=\"font-weight:bold;color:#BF360C;\">코딩 테스트 팁</font><br><br>\n",
    "<font size=\"3em\" style=\"color:#BF360C;\">일반적인 동적 계획법 문제는 <b>가장 적은 경우의 수부터 계산을 해본 후, 패턴을 찾아,</b> 식(점화식)을 세우는 것이 핵심!</font><br>\n",
    "</div>"
   ]
  },
  {
   "cell_type": "code",
   "execution_count": 5,
   "id": "d07f3890",
   "metadata": {},
   "outputs": [
    {
     "name": "stdout",
     "output_type": "stream",
     "text": [
      "55\n"
     ]
    }
   ],
   "source": [
    "import java.io.BufferedReader;\n",
    "import java.io.ByteArrayInputStream;\n",
    "import java.io.IOException;\n",
    "import java.io.InputStreamReader;\n",
    "import java.util.Arrays;\n",
    "import java.util.Collections;\n",
    "import java.util.StringTokenizer;\n",
    "\n",
    "public class Main {\n",
    "    public static void main(String[] args) throws IOException {\n",
    "\n",
    "        String inputData = \"\"\"\n",
    "        10\n",
    "        \"\"\";\n",
    "        System.setIn(new ByteArrayInputStream(inputData.getBytes()));\n",
    "\n",
    "        BufferedReader br = new BufferedReader(new InputStreamReader(System.in));\n",
    "        int N = Integer.parseInt(br.readLine());\n",
    "        int[] dp = new int[N + 1];\n",
    "        dp[1] = 1;\n",
    "        dp[2] = 1;\n",
    "\n",
    "        for (int i = 3; i <= N; i++) {\n",
    "            dp[i] = dp[i - 1] + dp[i - 2];\n",
    "        }\n",
    "        System.out.println(dp[N]);\n",
    "    }\n",
    "}\n",
    "Main.main(new String[0]);"
   ]
  },
  {
   "cell_type": "markdown",
   "id": "c6b888f5",
   "metadata": {
    "pycharm": {
     "name": "#%% md\n"
    }
   },
   "source": [
    "### 1. 연습 문제: 2xn 타일링 https://www.acmicpc.net/problem/11726"
   ]
  },
  {
   "cell_type": "markdown",
   "id": "f6368991",
   "metadata": {},
   "source": [
    "<div class=\"alert alert-block\" style=\"border: 2px solid #E65100;background-color:#FFF3E0;padding:10px\">\n",
    "<font size=\"4em\" style=\"font-weight:bold;color:#BF360C;\">코딩 테스트 팁</font><br><br>\n",
    "<font size=\"3em\" style=\"color:#BF360C;\">일반적인 동적 계획법 문제는 <b>가장 적은 경우의 수부터 계산을 해본 후, 패턴을 찾아,</b> 식(점화식)을 세우는 것이 핵심!</font><br>\n",
    "<font size=\"3em\" style=\"color:#BF360C;\">일반적인 동적 계획법 패턴 기반 문제는 입력값과 출력값을 고려해볼 필요가 있음</font><br>\n",
    "</div>"
   ]
  },
  {
   "cell_type": "code",
   "execution_count": 187,
   "id": "24f39555",
   "metadata": {
    "pycharm": {
     "name": "#%%\n"
    }
   },
   "outputs": [
    {
     "name": "stdout",
     "output_type": "stream",
     "text": [
      "55\n"
     ]
    }
   ],
   "source": [
    "import java.io.BufferedReader;\n",
    "import java.io.ByteArrayInputStream;\n",
    "import java.io.IOException;\n",
    "import java.io.InputStreamReader;\n",
    "import java.util.Arrays;\n",
    "import java.util.Collections;\n",
    "import java.util.StringTokenizer;\n",
    "\n",
    "public class Main {\n",
    "    public static void main(String[] args) throws IOException {\n",
    "\n",
    "        String inputData = \"\"\"\n",
    "        0\n",
    "        \"\"\";\n",
    "        System.setIn(new ByteArrayInputStream(inputData.getBytes()));\n",
    "\n",
    "        BufferedReader br = new BufferedReader(new InputStreamReader(System.in));\n",
    "        int N = Integer.parseInt(br.readLine());\n",
    "        int[] dp = new int[1001];\n",
    "        dp[1] = 1;\n",
    "        dp[2] = 2;\n",
    "\n",
    "        for (int i = 3; i <= N; i++) {\n",
    "            dp[i] = (dp[i - 1] + dp[i - 2]) % 10007;\n",
    "        }\n",
    "        System.out.println(dp[N]);\n",
    "    }\n",
    "}"
   ]
  },
  {
   "cell_type": "markdown",
   "id": "350aa711",
   "metadata": {
    "pycharm": {
     "name": "#%% md\n"
    }
   },
   "source": [
    "### 2. 연습문제: 파도반수열 https://www.acmicpc.net/problem/9461"
   ]
  },
  {
   "cell_type": "markdown",
   "id": "5afb6a9d",
   "metadata": {},
   "source": [
    "<div class=\"alert alert-block\" style=\"border: 2px solid #E65100;background-color:#FFF3E0;padding:10px\">\n",
    "<font size=\"4em\" style=\"font-weight:bold;color:#BF360C;\">코딩 테스트 팁</font><br><br>\n",
    "<font size=\"3em\" style=\"color:#BF360C;\">최근 수학 문제는 언어영역과 유사합니다 (이 부분에 적응하는데 시간이 걸릴 수 있습니다)</font><br>\n",
    "<font size=\"3em\" style=\"color:#BF360C;\">특히 입력이 어떻게 주어지는지, 출력이 어떻게 주어지는지는 최대한 꼼꼼히 확인하고, 그대로 작성해야 합니다</font><br>\n",
    "</div>"
   ]
  },
  {
   "cell_type": "code",
   "execution_count": 189,
   "id": "fd7f8e1e",
   "metadata": {},
   "outputs": [
    {
     "name": "stdout",
     "output_type": "stream",
     "text": [
      "3\n",
      "16\n"
     ]
    }
   ],
   "source": [
    "import java.io.BufferedReader;\n",
    "import java.io.ByteArrayInputStream;\n",
    "import java.io.IOException;\n",
    "import java.io.InputStreamReader;\n",
    "\n",
    "public class Main {\n",
    "    public static void main(String[] args) throws IOException {\n",
    "\n",
    "        String inputData = \"\"\"\n",
    "        2\n",
    "        1\n",
    "        100\n",
    "        \"\"\";\n",
    "        System.setIn(new ByteArrayInputStream(inputData.getBytes()));\n",
    "\n",
    "        BufferedReader br = new BufferedReader(new InputStreamReader(System.in));\n",
    "        int T = Integer.parseInt(br.readLine());\n",
    "        long[] dp = new long[101];\n",
    "        dp[1] = 1;\n",
    "        dp[2] = 1;\n",
    "        dp[3] = 1;\n",
    "\n",
    "        for (int i = 4; i <= 100; i++) {\n",
    "            dp[i] = dp[i - 2] + dp[i - 3];\n",
    "        }\n",
    "\n",
    "        for (int i = 0; i < T; i++) {\n",
    "            System.out.println(dp[Integer.parseInt(br.readLine())]);\n",
    "        }\n",
    "\n",
    "    }\n",
    "}"
   ]
  },
  {
   "cell_type": "markdown",
   "id": "5d9a3f88",
   "metadata": {
    "pycharm": {
     "name": "#%% md\n"
    }
   },
   "source": [
    "### 3. 연습문제: 01타일 https://www.acmicpc.net/problem/1904"
   ]
  },
  {
   "cell_type": "markdown",
   "id": "24960633",
   "metadata": {},
   "source": [
    "<div class=\"alert alert-block\" style=\"border: 2px solid #E65100;background-color:#FFF3E0;padding:10px\">\n",
    "<font size=\"4em\" style=\"font-weight:bold;color:#BF360C;\">코딩 테스트 팁</font><br><br>\n",
    "<font size=\"3em\" style=\"color:#BF360C;\">규칙을 찾는 것은 경험일 수 있습니다만, 우연히 빠르게 찾게 되면 술술 풀리고, 헤메면 당황할 수 있습니다</font><br>\n",
    "<font size=\"3em\" style=\"color:#BF360C;\">최대한 그림을 그려보면서, 힌트를 찾아보고, 힌트가 안보이면, 다른 각도로 그림을 그려보며 힌트를 찾아야 함 (멘탈 관리 필요)</font><br>\n",
    "<font size=\"3em\" style=\"color:#BF360C;\">제출 후, 에러나면, 메모리 에러, 시간 초과 에러가 많을 수 있으므로, 이런 부분도 고려할 필요가 있음</font><br>    \n",
    "</div>"
   ]
  },
  {
   "cell_type": "markdown",
   "id": "580a520e",
   "metadata": {
    "pycharm": {
     "name": "#%% md\n"
    }
   },
   "source": [
    "- N = 1(1) : 1\n",
    "- N = 2(2) : 00 11\n",
    "- N = 3(3) : 100 001 111\n",
    "- N = 4(4) : 0000 1100 1001 0011 1111\n",
    "- N = n : (n - 2)00 (n - 1)1\n",
    "> 즉 dp[n] = dp[n - 2] + dp[n - 1]"
   ]
  },
  {
   "cell_type": "code",
   "execution_count": 191,
   "id": "2d822a18",
   "metadata": {
    "scrolled": true
   },
   "outputs": [
    {
     "name": "stdout",
     "output_type": "stream",
     "text": [
      "5\n"
     ]
    }
   ],
   "source": [
    "import java.io.BufferedReader;\n",
    "import java.io.ByteArrayInputStream;\n",
    "import java.io.IOException;\n",
    "import java.io.InputStreamReader;\n",
    "\n",
    "public class Main {\n",
    "    public static void main(String[] args) throws IOException {\n",
    "\n",
    "        String inputData = \"\"\"\n",
    "        1\n",
    "        \"\"\";\n",
    "        System.setIn(new ByteArrayInputStream(inputData.getBytes()));\n",
    "\n",
    "        BufferedReader br = new BufferedReader(new InputStreamReader(System.in));\n",
    "        int N = Integer.parseInt(br.readLine());\n",
    "        int[] dp = new int[1000000 + 1];\n",
    "        dp[1] = 1;\n",
    "        dp[2] = 2;\n",
    "        dp[3] = 3;\n",
    "\n",
    "        for (int i = 4; i <= N; i++) {\n",
    "            dp[i] = (dp[i - 1] + dp[i - 2]) % 15746;\n",
    "        }\n",
    "        System.out.println(dp[N]);\n",
    "    }\n",
    "}"
   ]
  },
  {
   "cell_type": "markdown",
   "id": "0ba2d1a4",
   "metadata": {},
   "source": [
    "### 4. 연습문제: 연속합 https://www.acmicpc.net/problem/1912\n",
    "<div class=\"alert alert-block\" style=\"border: 2px solid #E65100;background-color:#FFF3E0;padding:10px\">\n",
    "<font size=\"4em\" style=\"font-weight:bold;color:#BF360C;\">코딩 테스트 팁</font><br><br>\n",
    "<font size=\"3em\" style=\"color:#BF360C;\">전형적인 점화식이 아닌 경우도 있으므로, 이 부분도 활용할 수 있어야 함</font><br>    \n",
    "</div>"
   ]
  },
  {
   "cell_type": "code",
   "execution_count": null,
   "id": "0a6329ba",
   "metadata": {},
   "outputs": [],
   "source": [
    "import java.io.BufferedReader;\n",
    "import java.io.ByteArrayInputStream;\n",
    "import java.io.IOException;\n",
    "import java.io.InputStreamReader;\n",
    "import java.util.StringTokenizer;\n",
    "\n",
    "public class Main {\n",
    "    public static void main(String[] args) throws IOException {\n",
    "\n",
    "        String inputData = \"\"\"\n",
    "        5\n",
    "        -1 -2 -3 -4 -5\n",
    "        \"\"\";\n",
    "        System.setIn(new ByteArrayInputStream(inputData.getBytes()));\n",
    "\n",
    "        BufferedReader br = new BufferedReader(new InputStreamReader(System.in));\n",
    "        int N = Integer.parseInt(br.readLine());\n",
    "\n",
    "        int[] arr = new int[N];\n",
    "        int[] dp = new int[N];\n",
    "\n",
    "        StringTokenizer st = new StringTokenizer(br.readLine());\n",
    "        for(int i = 0; i < N; i++) {\n",
    "            arr[i] = Integer.parseInt(st.nextToken());\n",
    "        }\n",
    "        dp[0] = arr[0];\n",
    "        int max = arr[0];\n",
    "\n",
    "        for (int i = 1; i < N; i++) {\n",
    "            dp[i] = Math.max(arr[i], dp[i - 1] + arr[i]);\n",
    "            max = Math.max(max, dp[i]);\n",
    "        }\n",
    "        System.out.println(max);\n",
    "    }\n",
    "}"
   ]
  },
  {
   "cell_type": "markdown",
   "id": "4b852071",
   "metadata": {},
   "source": [
    "### 5. 연습문제: 퇴사 https://www.acmicpc.net/problem/14501"
   ]
  },
  {
   "cell_type": "markdown",
   "id": "03af6496",
   "metadata": {},
   "source": [
    "<div class=\"alert alert-block\" style=\"border: 2px solid #E65100;background-color:#FFF3E0;padding:10px\">\n",
    "<font size=\"4em\" style=\"color:#BF360C;\">S전자 코딩테스트 기출 문제</font><br>\n",
    "<font size=\"4em\" style=\"color:#BF360C;\">역순 동적계획법 이해</font><br>\n",
    "</div>"
   ]
  },
  {
   "cell_type": "markdown",
   "id": "e93e5124",
   "metadata": {},
   "source": [
    "<div class=\"alert alert-block\" style=\"border: 2px solid #E65100;background-color:#FFF3E0;padding:10px\">\n",
    "<font size=\"4em\" style=\"font-weight:bold;color:#BF360C;\">jupyter notebook 과 코딩 테스트 팁</font><br><br>\n",
    "<font size=\"3em\" style=\"color:#BF360C;\">input() 함수로 일일이 여러 데이터를 입력하기는 무리가 있음</font><br>\n",
    "<font size=\"3em\" style=\"color:#BF360C;\">input() 함수에 여러 데이터를 넣는 방법으로 파일 입력을 sys.stdin (입력 스트림) 에 넣어서 input() 에 순차적으로 넣어줄 수 있음</font><br>\n",
    "<font size=\"3em\" style=\"color:#BF360C;\">jupyter notebook 에서는 sys.stdin (입력 스트림) 이 별도 구현되어 있어서, 위의 동작이 안됨</font><br>\n",
    "<font size=\"3em\" style=\"color:#BF360C;\">다음과 같이 특별한 코드를 사용해서, 바로바로 여러 데이터를 가지고 테스트할 수 있음</font><br>\n",
    "<font size=\"3em\" style=\"color:#BF360C;\">이를 통해, jupyter notebook 이 가지는 코드 작성의 장점을 활용하여, 코딩 테스트를 빠르게 익힐 수 있음</font><br>\n",
    "</div>"
   ]
  },
  {
   "cell_type": "markdown",
   "id": "d8978c97",
   "metadata": {},
   "source": [
    "> 코딩 팁: max(a, b) 내장함수는 a 와 b 중 높은 값을 리턴해줌"
   ]
  },
  {
   "cell_type": "code",
   "execution_count": 193,
   "id": "14ce2a9c",
   "metadata": {},
   "outputs": [
    {
     "name": "stdout",
     "output_type": "stream",
     "text": [
      "90\n"
     ]
    }
   ],
   "source": [
    "import java.io.BufferedReader;\n",
    "import java.io.ByteArrayInputStream;\n",
    "import java.io.IOException;\n",
    "import java.io.InputStreamReader;\n",
    "import java.util.StringTokenizer;\n",
    "\n",
    "public class Main {\n",
    "    public static void main(String[] args) throws IOException {\n",
    "\n",
    "        String inputData = \"\"\"\n",
    "        10\n",
    "        5 50\n",
    "        4 40\n",
    "        3 30\n",
    "        2 20\n",
    "        1 10\n",
    "        1 10\n",
    "        2 20\n",
    "        3 30\n",
    "        4 40\n",
    "        5 50\n",
    "        \"\"\";\n",
    "        System.setIn(new ByteArrayInputStream(inputData.getBytes()));\n",
    "\n",
    "        BufferedReader br = new BufferedReader(new InputStreamReader(System.in));\n",
    "        StringTokenizer st;\n",
    "        int N = Integer.parseInt(br.readLine());\n",
    "\n",
    "        int[] T = new int[N];\n",
    "        int[] P = new int[N];\n",
    "        int[] dp = new int[N + 1];\n",
    "        for(int i = 0; i < N; i++) {\n",
    "            st = new StringTokenizer(br.readLine());\n",
    "            T[i] = Integer.parseInt(st.nextToken());\n",
    "            P[i] = Integer.parseInt(st.nextToken());\n",
    "        }\n",
    "\n",
    "        for (int i = N - 1; i > -1; i--) {\n",
    "            if ((T[i] + i) > N) {\n",
    "                dp[i] = dp[i + 1];\n",
    "            } else {\n",
    "                dp[i] = Math.max(dp[i + 1], P[i] + dp[i + T[i]]);\n",
    "            }\n",
    "\n",
    "        }\n",
    "        System.out.println(dp[0]);\n",
    "    }\n",
    "}"
   ]
  },
  {
   "cell_type": "markdown",
   "id": "4e2b56ca",
   "metadata": {},
   "source": [
    "### 6. 연습문제: palindrome https://www.acmicpc.net/problem/10942\n",
    "<div class=\"alert alert-block\" style=\"border: 2px solid #E65100;background-color:#FFF3E0;padding:10px\">\n",
    "<font size=\"4em\" style=\"color:#BF360C;\">쿠X 코딩테스트 기출 문제</font><br>\n",
    "<font size=\"4em\" style=\"color:#BF360C;\">2차원 배열 기반 동적계획법 이해</font><br>\n",
    "</div>\n",
    "\n",
    "- 앞뒤를 뒤집어도 똑같은 문자열을 팰린드롬(palindrome) 이라고 함"
   ]
  },
  {
   "cell_type": "markdown",
   "id": "1217ff5c",
   "metadata": {},
   "source": [
    "### 시간초과 풀이"
   ]
  },
  {
   "cell_type": "code",
   "execution_count": 195,
   "id": "a46dc2a3",
   "metadata": {},
   "outputs": [
    {
     "name": "stdout",
     "output_type": "stream",
     "text": [
      "1\n",
      "0\n",
      "1\n",
      "1\n"
     ]
    }
   ],
   "source": [
    "import java.io.BufferedReader;\n",
    "import java.io.ByteArrayInputStream;\n",
    "import java.io.IOException;\n",
    "import java.io.InputStreamReader;\n",
    "import java.util.StringTokenizer;\n",
    "\n",
    "public class Main {\n",
    "    public static void main(String[] args) throws IOException {\n",
    "\n",
    "        String inputData = \"\"\"\n",
    "        7\n",
    "        1 2 1 3 1 2 1\n",
    "        4\n",
    "        1 3\n",
    "        2 5\n",
    "        3 3\n",
    "        5 7\n",
    "        \"\"\";\n",
    "        System.setIn(new ByteArrayInputStream(inputData.getBytes()));\n",
    "\n",
    "        BufferedReader br = new BufferedReader(new InputStreamReader(System.in));\n",
    "        StringTokenizer st;\n",
    "        int N = Integer.parseInt(br.readLine());\n",
    "        int[] nums = new int[N + 1];\n",
    "        int S, E;\n",
    "        st = new StringTokenizer(br.readLine());\n",
    "        for (int i = 1; i <= N; i++) {\n",
    "            nums[i] = Integer.parseInt(st.nextToken());\n",
    "        }\n",
    "        int M = Integer.parseInt(br.readLine());\n",
    "        for (int i = 0; i < M; i++) {\n",
    "            st = new StringTokenizer(br.readLine());\n",
    "            S = Integer.parseInt(st.nextToken());\n",
    "            E = Integer.parseInt(st.nextToken());\n",
    "            while (S < E) {\n",
    "                if (nums[S] == nums[E]) {\n",
    "                    S += 1;\n",
    "                    E -= 1;\n",
    "                } else {\n",
    "                    break;\n",
    "                }\n",
    "            }\n",
    "            if (S == E) {\n",
    "                System.out.println(1);\n",
    "            } else {\n",
    "                System.out.println(0);\n",
    "            }\n",
    "        }\n",
    "    }\n",
    "}"
   ]
  },
  {
   "cell_type": "markdown",
   "id": "186a9118",
   "metadata": {},
   "source": [
    "### 동적계획법 기반 풀이1"
   ]
  },
  {
   "cell_type": "markdown",
   "id": "f8d39724",
   "metadata": {},
   "source": [
    "- 다음 반복문은 [S][E] 가 동일할 때, S + 1 = E 일 때, S + 2 = E 일 때 순으로 반복함\n",
    "```python\n",
    "N = 4\n",
    "for index in range(N):\n",
    "    for start in range(N - index):\n",
    "        end = start + index\n",
    "        print (start, end)\n",
    "```\n",
    "\n",
    "<div class=\"alert alert-block\" style=\"border: 2px solid #E65100;background-color:#FFF3E0;padding:10px\">\n",
    "<font size=\"4em\" style=\"color:#BF360C;\">JAVA 로 제출 시 유의점</font><br>\n",
    "<font size=\"4em\" style=\"color:#BF360C;\">System.out.println() 으로 출력하면, 시간초과</font><br>\n",
    "<font size=\"4em\" style=\"color:#BF360C;\">StringBuilder 로 출력 데이터를 모은 후, 한번에 출력해야 함</font><br>\n",
    "</div>\n"
   ]
  },
  {
   "cell_type": "markdown",
   "id": "dbfa0fd1",
   "metadata": {},
   "source": [
    "<div class=\"alert alert-block\" style=\"border: 2px solid #E65100;background-color:#FFF3E0;padding:10px\">\n",
    "    <font size=\"4em\" style=\"color:#BF360C;\"><b>코딩 테스트 팁</b></font><br>\n",
    "<font size=\"4em\" style=\"color:#BF360C;\">문자열을 다루는 문제는 시간이 괜찮다면, StringBuilder 를 사용하기 (성능 개선 가능)</font>\n",
    "<font size=\"4em\" style=\"color:#BF360C;\">코딩 테스트 제출시 시간초과가 나는 경우, StringBuilder 를 사용하여 출력 성능 개선 가능</font>\n",
    "</div>\n",
    "\n",
    "### StringBuilder 주요 사용법\n",
    "- 입력 받기\n",
    "```java\n",
    "StringBuilder data = new StringBuilder();\n",
    "data.append(br.readLine()); // 문자열 코딩 테스트시 입력 받기\n",
    "System.out.println(data.length()); // 문자열 길이 알아내기\n",
    "System.out.println(data.toString()); // String 으로 변환하기\n",
    "System.out.println(data.substring(1,3)); // 문자열 추출\n",
    "System.out.println(data.append(\"FUN\")); // 문자열 추가\n",
    "System.out.println(data.reverse()); // 문자열 역순 변경\n",
    "System.out.println(data.toString().indexOf(\"UF\")); // 서브 문자열 찾기 (인덱스 번호 리턴)\n",
    "System.out.println(data.delete(0, 2)); // 일부 문자열 삭제\n",
    "```\n",
    "- 한번에 출력하기 (출력 성능 개선으로, 코딩 테스트 제출시 시간초과가 날 경우 사용 고려)\n",
    "```java\n",
    "StringBuilder data = new StringBuilder();\n",
    "data.append(\"1\\n\");\n",
    "data.append(\"0\\n\");\n",
    "System.out.println(data);\n",
    "```\n"
   ]
  },
  {
   "cell_type": "code",
   "execution_count": 198,
   "id": "61455903",
   "metadata": {},
   "outputs": [
    {
     "name": "stdout",
     "output_type": "stream",
     "text": [
      "1\n",
      "0\n",
      "1\n",
      "1\n"
     ]
    }
   ],
   "source": [
    "import java.io.BufferedReader;\n",
    "import java.io.ByteArrayInputStream;\n",
    "import java.io.IOException;\n",
    "import java.io.InputStreamReader;\n",
    "import java.util.StringTokenizer;\n",
    "\n",
    "public class Main {\n",
    "    public static void main(String[] args) throws IOException {\n",
    "\n",
    "        String inputData = \"\"\"\n",
    "        7\n",
    "        1 2 1 3 1 2 1\n",
    "        4\n",
    "        1 3\n",
    "        2 5\n",
    "        3 3\n",
    "        5 7\n",
    "        \"\"\";\n",
    "        System.setIn(new ByteArrayInputStream(inputData.getBytes()));\n",
    "\n",
    "        BufferedReader br = new BufferedReader(new InputStreamReader(System.in));\n",
    "        StringTokenizer st;\n",
    "        int N = Integer.parseInt(br.readLine());\n",
    "        int[] nums = new int[N];\n",
    "        int[][] dp = new int[N][N];\n",
    "        int S, E, end;\n",
    "        st = new StringTokenizer(br.readLine());\n",
    "        for (int i = 0; i < N; i++) {\n",
    "            nums[i] = Integer.parseInt(st.nextToken());\n",
    "        }\n",
    "\n",
    "        for (int i = 0; i < N; i++) {  // 간격\n",
    "            for (int start = 0; start < N - i; start++) {  // 간격만큼까지만 시작점을 가질 수 있음\n",
    "                end = start + i;  // 시작점 + 간격\n",
    "                if (start == end) {  // 시작점과 끝점이 같으면 당연히 1 (palindrome)\n",
    "                    dp[start][end] = 1;\n",
    "                } else if (nums[start] == nums[end]) { // 시작점과 끝점에 있는 숫자가 같으면!\n",
    "                    if ((start + 1) == end) { // 시작점과 끝점이 바로 옆에 있으면 1 (palindrome)\n",
    "                        dp[start][end] = 1; \n",
    "                    } else if (dp[start + 1][end - 1] == 1) { // 시작점과 끝점의 숫자가 같으면, 그보다 작은 간격을 가진 그 안의 숫자가 palindrome 인지를 확인하면 됨\n",
    "                        dp[start][end] = 1;\n",
    "                    }\n",
    "                }\n",
    "            }\n",
    "        }\n",
    "    \n",
    "        StringBuilder sb = new StringBuilder();\n",
    "        int M = Integer.parseInt(br.readLine());\n",
    "        for (int i = 0; i < M; i++) {\n",
    "            st = new StringTokenizer(br.readLine());\n",
    "            S = Integer.parseInt(st.nextToken());\n",
    "            E = Integer.parseInt(st.nextToken());\n",
    "            if (dp[S - 1][E - 1] == 1) {  // 인덱스번호 0번부터 데이터는 입력되고, S / E 는 1번부터 시작하므로 1씩 빼줌\n",
    "                sb.append(\"1\\n\");\n",
    "            } else {\n",
    "                sb.append(\"0\\n\");\n",
    "            }\n",
    "        }\n",
    "        System.out.println(sb);\n",
    "    }\n",
    "}"
   ]
  },
  {
   "cell_type": "markdown",
   "id": "b9c5cc10",
   "metadata": {},
   "source": [
    "### 동적계획법 기반 풀이2"
   ]
  },
  {
   "cell_type": "code",
   "execution_count": 200,
   "id": "61fa076f",
   "metadata": {},
   "outputs": [
    {
     "name": "stdout",
     "output_type": "stream",
     "text": [
      "1\n",
      "0\n",
      "1\n",
      "1\n"
     ]
    }
   ],
   "source": [
    "import java.io.BufferedReader;\n",
    "import java.io.ByteArrayInputStream;\n",
    "import java.io.IOException;\n",
    "import java.io.InputStreamReader;\n",
    "import java.util.StringTokenizer;\n",
    "\n",
    "public class Main {\n",
    "    public static void main(String[] args) throws IOException {\n",
    "\n",
    "        String inputData = \"\"\"\n",
    "        7\n",
    "        1 2 1 3 1 2 1\n",
    "        4\n",
    "        1 3\n",
    "        2 5\n",
    "        3 3\n",
    "        5 7\n",
    "        \"\"\";\n",
    "        System.setIn(new ByteArrayInputStream(inputData.getBytes()));\n",
    "\n",
    "        BufferedReader br = new BufferedReader(new InputStreamReader(System.in));\n",
    "        StringTokenizer st;\n",
    "        int N = Integer.parseInt(br.readLine());\n",
    "        int[] nums = new int[N];\n",
    "        int[][] dp = new int[N][N];\n",
    "        int S, E, end;\n",
    "        st = new StringTokenizer(br.readLine());\n",
    "        for (int i = 0; i < N; i++) {\n",
    "            nums[i] = Integer.parseInt(st.nextToken());\n",
    "        }\n",
    "\n",
    "        // 시작점과 끝점이 같으면 우선 1 로 초기값 넣기\n",
    "        for (int i = 0; i < N; i++) {\n",
    "            dp[i][i] = 1;\n",
    "        }\n",
    "\n",
    "        // 시작점과 끝점이 한칸 차이일 때, 시작점과 끝점의 숫자가 같으면 1로 초기값 넣기\n",
    "        for (int i = 0; i < N - 1; i++) {\n",
    "            if (nums[i] == nums[i + 1]) {\n",
    "                dp[i][i + 1] = 1;\n",
    "            }\n",
    "        }\n",
    "\n",
    "        // 시작점과 끝점이 두 칸 차이 이상일 때는, \n",
    "        for (int i = 2; i < N; i++) {  // 간격을 나타냄, 두 칸 이상부터 시작\n",
    "            for (int start = 0; start < N - i; start++) {   // 간격만큼을 띄운 부분까지가 시작점이 될 수 있음\n",
    "                end = start + i; // 시작점에서 간격만큼 띄운 부분을 끝점으로 놓고\n",
    "                if (nums[start] == nums[end] && dp[start + 1][end - 1] == 1) {  // 시작점과, 끝점의 숫자가 같고, 그 안이 palindrome 이면, 전체가 palindrome\n",
    "                    dp[start][end] = 1;\n",
    "                }\n",
    "            }\n",
    "        }\n",
    "\n",
    "        StringBuilder sb = new StringBuilder();\n",
    "        int M = Integer.parseInt(br.readLine());\n",
    "        for (int i = 0; i < M; i++) {\n",
    "            st = new StringTokenizer(br.readLine());\n",
    "            S = Integer.parseInt(st.nextToken());\n",
    "            E = Integer.parseInt(st.nextToken());\n",
    "            if (dp[S - 1][E - 1] == 1) {\n",
    "                sb.append(\"1\\n\");\n",
    "            } else {\n",
    "                sb.append(\"0\\n\");\n",
    "            }\n",
    "        }\n",
    "        System.out.println(sb);\n",
    "    }\n",
    "}"
   ]
  },
  {
   "cell_type": "markdown",
   "id": "12b516fe",
   "metadata": {},
   "source": [
    "### 7. 연습문제: 행렬곱 https://www.acmicpc.net/problem/11049\n",
    "<div class=\"alert alert-block\" style=\"border: 2px solid #E65100;background-color:#FFF3E0;padding:10px\">\n",
    "<font size=\"4em\" style=\"color:#BF360C;\">난이도: 상급 문제이지만, 유사한 문제이므로 참고로 이해하기로 함</font>\n",
    "</div>\n",
    "\n",
    "- 행렬곱: (행수 X 열수) 라고 했을 때\n",
    "   - (3 X 2) * (2 X 4) = (3 X 4) -> 앞의 열수와 뒤의 행수가 동일해야 함 (행렬곱 조건), 결과는 (앞의 행수, 뒤의 열수) 가 됨\n",
    "   - A의 크기가 5×3이고, B의 크기가 3×2, C의 크기가 2×6인 경우,\n",
    "      - AB 는 5(A의행수) X 3(A의열수) X 2(B의 열수) => 5 X 2 \n",
    "      - AB X C 는 5 X 2 X 6(C의 행수)"
   ]
  },
  {
   "cell_type": "code",
   "execution_count": 13,
   "id": "654c82be",
   "metadata": {},
   "outputs": [
    {
     "name": "stdout",
     "output_type": "stream",
     "text": [
      "90\n"
     ]
    }
   ],
   "source": [
    "import java.io.BufferedReader;\n",
    "import java.io.ByteArrayInputStream;\n",
    "import java.io.IOException;\n",
    "import java.io.InputStreamReader;\n",
    "import java.util.StringTokenizer;\n",
    "\n",
    "public class Main {\n",
    "    public static void main(String[] args) throws IOException {\n",
    "\n",
    "        String inputData = \"\"\"\n",
    "        3\n",
    "        5 3\n",
    "        3 2\n",
    "        2 6\n",
    "        \"\"\";\n",
    "        System.setIn(new ByteArrayInputStream(inputData.getBytes()));\n",
    "\n",
    "        BufferedReader br = new BufferedReader(new InputStreamReader(System.in));\n",
    "        int N = Integer.parseInt(br.readLine());\n",
    "        int[][] matrix = new int[N][2];\n",
    "        int[][] dp = new int[N][N];\n",
    "        int end;\n",
    "        StringTokenizer st;\n",
    "\n",
    "        for (int i = 0; i < N; i++) {\n",
    "            st = new StringTokenizer(br.readLine());\n",
    "            matrix[i][0] = Integer.parseInt(st.nextToken());\n",
    "            matrix[i][1] = Integer.parseInt(st.nextToken());\n",
    "        }\n",
    "\n",
    "        for (int i = 1; i < N; i++) {\n",
    "            for (int start = 0; start < N - i; start++) {\n",
    "                end = start + i;\n",
    "                dp[start][end] = Integer.MAX_VALUE;\n",
    "                for (int k = start; k < end; k++) {\n",
    "                    dp[start][end] = Math.min(dp[start][end], dp[start][k] + dp[k + 1][end] + matrix[start][0] * matrix[k][1] * matrix[end][1]);\n",
    "                }\n",
    "            }\n",
    "        }\n",
    "        System.out.println(dp[0][N - 1]);\n",
    "    }\n",
    "}\n",
    "Main.main(new String[0])"
   ]
  },
  {
   "cell_type": "markdown",
   "id": "8bd569d9",
   "metadata": {},
   "source": [
    "### 8. 연습문제: 파일 합치기 https://www.acmicpc.net/problem/11066\n",
    "<div class=\"alert alert-block\" style=\"border: 2px solid #E65100;background-color:#FFF3E0;padding:10px\">\n",
    "<font size=\"4em\" style=\"color:#BF360C;\">난이도: 상급 문제이지만, 유사한 문제이므로 참고로 이해하기로 함</font>\n",
    "</div>"
   ]
  },
  {
   "cell_type": "markdown",
   "id": "0d85cd4f",
   "metadata": {},
   "source": [
    "### 동적 계획법 + 성능 개선 코드\n",
    "<div class=\"alert alert-block\" style=\"border: 2px solid #E65100;background-color:#FFF3E0;padding:10px\">\n",
    "<font size=\"4em\" style=\"font-weight:bold;color:#BF360C;\">시간 초과 코딩 테스트 팁</font><br><br>\n",
    "<font size=\"3em\" style=\"color:#BF360C;\">미리 계산 결과를 저장하고, 사용하도록 동적 계획법을 적용해줄 수 있음</font></div>"
   ]
  },
  {
   "cell_type": "code",
   "execution_count": 2,
   "id": "f806e13d",
   "metadata": {},
   "outputs": [
    {
     "name": "stdout",
     "output_type": "stream",
     "text": [
      "0 0\n",
      "1 40\n",
      "2 70\n",
      "3 100\n",
      "4 150\n",
      "300\n",
      "0 0\n",
      "1 1\n",
      "2 22\n",
      "3 25\n",
      "4 29\n",
      "5 34\n",
      "6 69\n",
      "7 74\n",
      "8 78\n",
      "9 81\n",
      "10 86\n",
      "11 184\n",
      "12 205\n",
      "13 219\n",
      "14 236\n",
      "15 268\n",
      "864\n"
     ]
    }
   ],
   "source": [
    "import java.io.BufferedReader;\n",
    "import java.io.ByteArrayInputStream;\n",
    "import java.io.IOException;\n",
    "import java.io.InputStreamReader;\n",
    "import java.util.StringTokenizer;\n",
    "\n",
    "public class Main {\n",
    "    public static void main(String[] args) throws IOException {\n",
    "\n",
    "        String inputData = \"\"\"\n",
    "        2\n",
    "        4\n",
    "        40 30 30 50\n",
    "        15\n",
    "        1 21 3 4 5 35 5 4 3 5 98 21 14 17 32\n",
    "        \"\"\";\n",
    "        System.setIn(new ByteArrayInputStream(inputData.getBytes()));\n",
    "\n",
    "        BufferedReader br = new BufferedReader(new InputStreamReader(System.in));\n",
    "        int T = Integer.parseInt(br.readLine());\n",
    "        StringTokenizer st;\n",
    "        int end;\n",
    "        for (int i = 0; i < T; i++) {\n",
    "            int K = Integer.parseInt(br.readLine());\n",
    "            int[] pages = new int[K];\n",
    "            int[][] dp = new int[K][K];\n",
    "\n",
    "            st = new StringTokenizer(br.readLine());\n",
    "            for (int j = 0; j < K; j++) {\n",
    "                pages[j] = Integer.parseInt(st.nextToken());\n",
    "            }\n",
    "            int[] pageSum = new int[K + 1];\n",
    "            for (int j = 0; j <= K; j++) {\n",
    "                for (int k = 0; k < j; k++) {\n",
    "                    pageSum[j] += pages[k];\n",
    "                }\n",
    "            }\n",
    "            for (int j = 0; j <= K; j++) {\n",
    "                System.out.println(j + \" \" + pageSum[j]);\n",
    "            }\n",
    "\n",
    "            for (int j = 1; j < K; j++) {\n",
    "                for (int start = 0; start < K - j; start++) {\n",
    "                    end = start + j;\n",
    "                    dp[start][end] = Integer.MAX_VALUE;\n",
    "                    for (int k = start; k < end; k++) {\n",
    "                        dp[start][end] = Math.min(dp[start][end], dp[start][k] + dp[k + 1][end] + (pageSum[end + 1] - pageSum[start]));\n",
    "                    }\n",
    "                }\n",
    "            }\n",
    "            System.out.println(dp[0][K - 1]);\n",
    "        }\n",
    "    }\n",
    "}\n",
    "Main.main(new String[0])"
   ]
  },
  {
   "cell_type": "markdown",
   "id": "39409f8c",
   "metadata": {},
   "source": [
    "### 9. 연습문제: 파이프 옮기기 1 https://www.acmicpc.net/problem/17070\n",
    "<div class=\"alert alert-block\" style=\"border: 2px solid #E65100;background-color:#FFF3E0;padding:10px\">\n",
    "<font size=\"4em\" style=\"color:#BF360C;\">보드를 기반으로 푸는 문제가 다양하므로, 동적계획법 + 보드 형태에도 익숙해지기로 함</font>\n",
    "</div>\n",
    "<div class=\"alert alert-block\" style=\"border: 2px solid #E65100;background-color:#FFF3E0;padding:10px\">\n",
    "<font size=\"4em\" style=\"color:#BF360C;\">S전자 코딩테스트 기출 문제</font><br>\n",
    "<font size=\"4em\" style=\"color:#BF360C;\">동적계획법+보드 형태 이해</font><br>\n",
    "</div>"
   ]
  },
  {
   "cell_type": "code",
   "execution_count": 3,
   "id": "3f58cea7",
   "metadata": {},
   "outputs": [
    {
     "name": "stdout",
     "output_type": "stream",
     "text": [
      "13\n"
     ]
    }
   ],
   "source": [
    "import java.io.BufferedReader;\n",
    "import java.io.ByteArrayInputStream;\n",
    "import java.io.IOException;\n",
    "import java.io.InputStreamReader;\n",
    "import java.util.StringTokenizer;\n",
    "\n",
    "public class Main {\n",
    "    public static void main(String[] args) throws IOException {\n",
    "\n",
    "        String inputData = \"\"\"\n",
    "        6\n",
    "        0 0 0 0 0 0\n",
    "        0 1 0 0 0 0\n",
    "        0 0 0 0 0 0\n",
    "        0 0 0 0 0 0\n",
    "        0 0 0 0 0 0\n",
    "        0 0 0 0 0 0\n",
    "        \"\"\";\n",
    "        System.setIn(new ByteArrayInputStream(inputData.getBytes()));\n",
    "\n",
    "        BufferedReader br = new BufferedReader(new InputStreamReader(System.in));\n",
    "        int N = Integer.parseInt(br.readLine());\n",
    "        final int HORIZONTAL = 0;\n",
    "        final int DIAGONAL = 1;\n",
    "        final int VERTICAL = 2;\n",
    "        int[][] board = new int[N][N];\n",
    "        int[][][] dp = new int[N][N][3];\n",
    "        dp[0][1][HORIZONTAL] = 1;\n",
    "\n",
    "        StringTokenizer st;\n",
    "        for (int i = 0; i < N; i++) {\n",
    "            st = new StringTokenizer(br.readLine());\n",
    "            for (int j = 0; j < N; j++) {\n",
    "                board[i][j] = Integer.parseInt(st.nextToken());\n",
    "            }\n",
    "        }\n",
    "\n",
    "        for (int row = 0; row < N; row++) {\n",
    "            for  (int column = 0; column < N; column++) {\n",
    "                if ((row == 0) && (column == 0)) {\n",
    "                    continue;\n",
    "                }\n",
    "                // 가로 이동\n",
    "                if (((column + 1) < N) && (board[row][column + 1] == 0)) {\n",
    "                    dp[row][column + 1][HORIZONTAL] = dp[row][column][HORIZONTAL] + dp[row][column][DIAGONAL];\n",
    "                }\n",
    "                // 세로 이동\n",
    "                if (((row + 1) < N) && (board[row + 1][column] == 0)) {\n",
    "                    dp[row + 1][column][VERTICAL] = dp[row][column][VERTICAL] + dp[row][column][DIAGONAL];\n",
    "                }\n",
    "                // 대각선 이동\n",
    "                if (((row + 1) < N) && ((column + 1) < N) && (board[row + 1][column] == 0) && (board[row][column + 1] == 0) && (board[row + 1][column + 1] == 0)) {\n",
    "                    dp[row + 1][column + 1][DIAGONAL] = dp[row][column][HORIZONTAL] + dp[row][column][DIAGONAL] + dp[row][column][VERTICAL];\n",
    "                }\n",
    "            }\n",
    "        }\n",
    "        System.out.println(dp[N - 1][N - 1][HORIZONTAL] + dp[N - 1][N - 1][DIAGONAL] + dp[N - 1][N - 1][VERTICAL]);\n",
    "    }\n",
    "}\n",
    "Main.main(new String[0])"
   ]
  },
  {
   "cell_type": "markdown",
   "id": "96384c34",
   "metadata": {},
   "source": [
    "<div class=\"alert alert-block\" style=\"border: 1px solid #455A64;background-color:#ECEFF1;padding:5px;font-size:0.9em;\">\n",
    "본 자료와 관련 영상 컨텐츠는 저작권법 제25조 2항에 의해 보호를 받습니다. <br>본 컨텐츠 및 컨텐츠 일부 문구 등을 외부에 공개하거나, 요약해서 게시하지 말아주세요.<br>\n",
    "    <a href='https://www.fun-coding.org'>잔재미코딩(www.fun-coding.org) Dave Lee</a>\n",
    "</div>"
   ]
  }
 ],
 "metadata": {
  "kernelspec": {
   "display_name": "Java",
   "language": "java",
   "name": "java"
  },
  "language_info": {
   "codemirror_mode": "java",
   "file_extension": ".jshell",
   "mimetype": "text/x-java-source",
   "name": "Java",
   "pygments_lexer": "java",
   "version": "15.0.2+7-27"
  }
 },
 "nbformat": 4,
 "nbformat_minor": 5
}
