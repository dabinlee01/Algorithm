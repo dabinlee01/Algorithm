{
 "cells": [
  {
   "cell_type": "markdown",
   "id": "a52370e1",
   "metadata": {},
   "source": [
    "<div class=\"alert alert-block\" style=\"border: 1px solid #455A64;background-color:#ECEFF1;padding:5px;font-size:0.9em;\">\n",
    "본 자료와 관련 영상 컨텐츠는 저작권법 제25조 2항에 의해 보호를 받습니다. <br>본 컨텐츠 및 컨텐츠 일부 문구 등을 외부에 공개하거나, 요약해서 게시하지 말아주세요.<br>\n",
    "    <a href='https://www.fun-coding.org'>잔재미코딩(www.fun-coding.org) Dave Lee</a>\n",
    "</div>"
   ]
  },
  {
   "cell_type": "markdown",
   "id": "8790caa5",
   "metadata": {
    "pycharm": {
     "name": "#%% md\n"
    }
   },
   "source": [
    "### 실전 코딩 테스트 - BFS/DFS 알고리즘"
   ]
  },
  {
   "cell_type": "markdown",
   "id": "78296edb",
   "metadata": {},
   "source": [
    "- 헷깔리지 않는 DFS/BFS 이해\n",
    "   - DFS: node 와 연결된 node 의 또다른 연결된 것으로 먼저 이동\n",
    "   - BFS: node 에 연결된 node 들을 먼저 순차적으로 이동"
   ]
  },
  {
   "cell_type": "markdown",
   "id": "936718f1",
   "metadata": {},
   "source": [
    "### 그래프를 자료구조로 작성하기\n",
    "<img src=\"https://www.fun-coding.org/00_Images/bfsgraph.png\" width=700>"
   ]
  },
  {
   "cell_type": "code",
   "execution_count": 5,
   "id": "9d2b0317",
   "metadata": {},
   "outputs": [],
   "source": [
    "HashMap<String, ArrayList<String>> graph = new HashMap<>();\n",
    "\n",
    "graph.put(\"A\", new ArrayList<String>(Arrays.asList(\"B\", \"C\")));\n",
    "graph.put(\"B\", new ArrayList<String>(Arrays.asList(\"A\", \"D\")));\n",
    "graph.put(\"C\", new ArrayList<String>(Arrays.asList(\"A\", \"G\", \"H\", \"I\")));\n",
    "graph.put(\"D\", new ArrayList<String>(Arrays.asList(\"B\", \"E\", \"F\")));\n",
    "graph.put(\"E\", new ArrayList<String>(Arrays.asList(\"D\")));\n",
    "graph.put(\"F\", new ArrayList<String>(Arrays.asList(\"D\")));\n",
    "graph.put(\"G\", new ArrayList<String>(Arrays.asList(\"C\")));\n",
    "graph.put(\"H\", new ArrayList<String>(Arrays.asList(\"C\")));\n",
    "graph.put(\"I\", new ArrayList<String>(Arrays.asList(\"C\", \"J\")));\n",
    "graph.put(\"J\", new ArrayList<String>(Arrays.asList(\"I\")));"
   ]
  },
  {
   "cell_type": "code",
   "execution_count": 6,
   "id": "04f1b7ee",
   "metadata": {},
   "outputs": [],
   "source": [
    "import java.util.ArrayList;\n",
    "import java.util.HashMap;\n",
    "\n",
    "public class BFSSearch {\n",
    "    public ArrayList<String> bfsFunc(HashMap<String, ArrayList<String>> graph, String startNode) {\n",
    "        ArrayList<String> visited = new ArrayList<>();\n",
    "        ArrayList<String> needVisit = new ArrayList<>();\n",
    "        needVisit.add(startNode);\n",
    "        \n",
    "        while(needVisit.size() > 0) {\n",
    "            String node = needVisit.remove(0);\n",
    "            if (!visited.contains(node)) {\n",
    "                visited.add(node);\n",
    "                needVisit.addAll(graph.get(node));\n",
    "            }\n",
    "        }\n",
    "        return visited;\n",
    "    }\n",
    "}"
   ]
  },
  {
   "cell_type": "code",
   "execution_count": 7,
   "id": "c9a89ae0",
   "metadata": {},
   "outputs": [
    {
     "data": {
      "text/plain": [
       "[A, B, C, D, G, H, I, E, F, J]"
      ]
     },
     "execution_count": 7,
     "metadata": {},
     "output_type": "execute_result"
    }
   ],
   "source": [
    "BFSSearch bObject = new BFSSearch();\n",
    "bObject.bfsFunc(graph, \"A\");"
   ]
  },
  {
   "cell_type": "code",
   "execution_count": 8,
   "id": "f5b876e8",
   "metadata": {},
   "outputs": [],
   "source": [
    "import java.util.ArrayList;\n",
    "import java.util.HashMap;\n",
    "\n",
    "public class DFSSearch {\n",
    "    public ArrayList<String> dfsFunc(HashMap<String, ArrayList<String>> graph, String startNode) {\n",
    "        ArrayList<String> visited = new ArrayList<>();\n",
    "        ArrayList<String> needVisit = new ArrayList<>();\n",
    "        needVisit.add(startNode);\n",
    "        \n",
    "        while(needVisit.size() > 0) {\n",
    "            String node = needVisit.remove(needVisit.size() - 1);\n",
    "            if (!visited.contains(node)) {\n",
    "                visited.add(node);\n",
    "                needVisit.addAll(graph.get(node));\n",
    "            }\n",
    "        }\n",
    "        return visited;\n",
    "    }\n",
    "}"
   ]
  },
  {
   "cell_type": "code",
   "execution_count": 9,
   "id": "3133ecee",
   "metadata": {},
   "outputs": [
    {
     "data": {
      "text/plain": [
       "[A, C, I, J, H, G, B, D, F, E]"
      ]
     },
     "execution_count": 9,
     "metadata": {},
     "output_type": "execute_result"
    }
   ],
   "source": [
    "DFSSearch dObject = new DFSSearch();\n",
    "dObject.dfsFunc(graph, \"A\");"
   ]
  },
  {
   "cell_type": "markdown",
   "id": "ee363749",
   "metadata": {
    "pycharm": {
     "name": "#%% md\n"
    }
   },
   "source": [
    "### 1. 연습문제: DFS와 BFS https://www.acmicpc.net/problem/1260\n",
    "<div class=\"alert alert-block\" style=\"border: 2px solid #E65100;background-color:#FFF3E0;padding:10px\">\n",
    "<font size=\"4em\" style=\"color:#BF360C;\">BFS/DFS 문제등 그래프 문제는 기본 난이도가 중급 이상</font>\n",
    "</div>"
   ]
  },
  {
   "cell_type": "markdown",
   "id": "b461a9d3",
   "metadata": {},
   "source": [
    "<div class=\"alert alert-block\" style=\"border: 2px solid #E65100;background-color:#FFF3E0;padding:10px\">\n",
    "<font size=\"4em\" style=\"color:#BF360C;\">StringBuilder 도 함께 사용해보기</font>\n",
    "</div>"
   ]
  },
  {
   "cell_type": "code",
   "execution_count": null,
   "id": "3a5a6406",
   "metadata": {},
   "outputs": [],
   "source": []
  },
  {
   "cell_type": "markdown",
   "id": "b98af623",
   "metadata": {},
   "source": [
    "### 2. 연습문제: 알파벳 https://www.acmicpc.net/problem/1987"
   ]
  },
  {
   "cell_type": "markdown",
   "id": "09a1ab1e",
   "metadata": {},
   "source": [
    "<div class=\"alert alert-block\" style=\"border: 2px solid #E65100;background-color:#FFF3E0;padding:10px\">\n",
    "<font size=\"4em\" style=\"font-weight:bold;color:#BF360C;\">코딩 테스트 팁</font><br><br>\n",
    "<font size=\"3em\" style=\"color:#BF360C;\">상하좌우 체크/이동등의 문제에서 이 팁을 모르면 아예 풀 수 없음</font>\n",
    "<div class=\"alert alert-block\" style=\"border: 2px solid #E65100;background-color:#FFF3E0;padding:10px\">\n",
    "static int[] dx = {-1, 0, 1, 0}; <br>\n",
    "static int[] dy = {0, 1, 0, -1}; <br>\n",
    "<br>\n",
    "// x, y 좌표에 대해 상하좌우는 dx[index], dy[index] 를 for 구문으로 해결 가능 <br>\n",
    "for (int i = 0; i < 4; i++) { <br>\n",
    "&nbsp;&nbsp;&nbsp;&nbsp;int nx = x + dx[i]; <br>\n",
    "&nbsp;&nbsp;&nbsp;&nbsp;int ny = y + dy[i]; <br>\n",
    "} <br>\n",
    "</div>\n",
    "</div>"
   ]
  },
  {
   "cell_type": "markdown",
   "id": "0b9a308a",
   "metadata": {},
   "source": [
    "<div class=\"alert alert-block\" style=\"border: 2px solid #E65100;background-color:#FFF3E0;padding:10px\">\n",
    "<font size=\"4em\" style=\"color:#BF360C;\">DFS + 백트랙킹 을 기반으로 한 코딩 문제도 많이 나옴</font>\n",
    "</div>"
   ]
  },
  {
   "cell_type": "code",
   "execution_count": null,
   "id": "065f8643",
   "metadata": {},
   "outputs": [],
   "source": []
  },
  {
   "cell_type": "markdown",
   "id": "8a0f628b",
   "metadata": {},
   "source": [
    "### 3. 연습문제: 전투 https://www.acmicpc.net/problem/1303"
   ]
  },
  {
   "cell_type": "markdown",
   "id": "a91abe78",
   "metadata": {},
   "source": [
    "<div class=\"alert alert-block\" style=\"border: 2px solid #E65100;background-color:#FFF3E0;padding:10px\">\n",
    "<font size=\"4em\" style=\"color:#BF360C;\">상하좌우 체크/이동등의 문제 해결 및 DFS + 백트랙킹 반복 연습</font>\n",
    "</div>"
   ]
  },
  {
   "cell_type": "code",
   "execution_count": null,
   "id": "d754b6e0",
   "metadata": {},
   "outputs": [],
   "source": []
  },
  {
   "cell_type": "markdown",
   "id": "7a889205",
   "metadata": {},
   "source": [
    "### 4. 연습문제: 연구소 https://www.acmicpc.net/problem/14502"
   ]
  },
  {
   "cell_type": "markdown",
   "id": "03af6496",
   "metadata": {},
   "source": [
    "<div class=\"alert alert-block\" style=\"border: 2px solid #E65100;background-color:#FFF3E0;padding:10px\">\n",
    "<font size=\"4em\" style=\"color:#BF360C;\">S전자 코딩테스트 기출 문제</font><br>\n",
    "<font size=\"4em\" style=\"color:#BF360C;\">조합(BFS + DFS) 이해</font><br>\n",
    "</div>"
   ]
  },
  {
   "cell_type": "code",
   "execution_count": null,
   "id": "19ce71e6",
   "metadata": {},
   "outputs": [],
   "source": []
  },
  {
   "cell_type": "markdown",
   "id": "28ec3f04",
   "metadata": {},
   "source": [
    "### 5. 연습문제: 뱀 https://www.acmicpc.net/problem/3190"
   ]
  },
  {
   "cell_type": "markdown",
   "id": "1ee1af11",
   "metadata": {},
   "source": [
    "<div class=\"alert alert-block\" style=\"border: 2px solid #E65100;background-color:#FFF3E0;padding:10px\">\n",
    "<font size=\"4em\" style=\"color:#BF360C;\">S전자 코딩테스트 기출 문제</font><br>\n",
    "<font size=\"4em\" style=\"color:#BF360C;\">상하좌우 + 시뮬레이션 연습</font><br>\n",
    "</div>"
   ]
  },
  {
   "cell_type": "code",
   "execution_count": null,
   "id": "a421f84f",
   "metadata": {},
   "outputs": [],
   "source": []
  },
  {
   "cell_type": "markdown",
   "id": "741bfae9",
   "metadata": {},
   "source": [
    "<div class=\"alert alert-block\" style=\"border: 1px solid #455A64;background-color:#ECEFF1;padding:5px;font-size:0.9em;\">\n",
    "본 자료와 관련 영상 컨텐츠는 저작권법 제25조 2항에 의해 보호를 받습니다. <br>본 컨텐츠 및 컨텐츠 일부 문구 등을 외부에 공개하거나, 요약해서 게시하지 말아주세요.<br>\n",
    "    <a href='https://www.fun-coding.org'>잔재미코딩(www.fun-coding.org) Dave Lee</a>\n",
    "</div>"
   ]
  }
 ],
 "metadata": {
  "kernelspec": {
   "display_name": "Java",
   "language": "java",
   "name": "java"
  },
  "language_info": {
   "codemirror_mode": "java",
   "file_extension": ".jshell",
   "mimetype": "text/x-java-source",
   "name": "Java",
   "pygments_lexer": "java",
   "version": "15.0.2+7-27"
  }
 },
 "nbformat": 4,
 "nbformat_minor": 5
}
