{
 "cells": [
  {
   "cell_type": "markdown",
   "metadata": {},
   "source": [
    "<div class=\"alert alert-block\" style=\"border: 1px solid #455A64;background-color:#ECEFF1;padding:5px;font-size:0.9em;\">\n",
    "본 자료와 관련 영상 컨텐츠는 저작권법 제25조 2항에 의해 보호를 받습니다. <br>본 컨텐츠 및 컨텐츠 일부 문구 등을 외부에 공개하거나, 요약해서 게시하지 말아주세요.<br>\n",
    "    <a href='https://www.fun-coding.org'>잔재미코딩(www.fun-coding.org) Dave Lee</a>\n",
    "</div>"
   ]
  },
  {
   "cell_type": "markdown",
   "metadata": {},
   "source": [
    "## 대표적인 정렬5: 퀵 정렬 (quick sort) "
   ]
  },
  {
   "cell_type": "markdown",
   "metadata": {},
   "source": [
    "### 1. 퀵 정렬 (quick sort) 이란?\n",
    "* <font color='#BF360C'>정렬 알고리즘의 꽃</font>\n",
    "* 기준점(pivot 이라고 부름)을 정해서, 기준점보다 작은 데이터는 왼쪽(left), 큰 데이터는 오른쪽(right) 으로 모으는 함수를 작성함\n",
    "* 각 왼쪽(left), 오른쪽(right)은 재귀용법을 사용해서 다시 동일 함수를 호출하여 위 작업을 반복함\n",
    "* 함수는 왼쪽(left) + 기준점(pivot) + 오른쪽(right) 을 리턴함"
   ]
  },
  {
   "cell_type": "markdown",
   "metadata": {},
   "source": [
    "### 2. 어떻게 코드로 만들까?\n",
    "> 퀵소트 알고리즘에 대해서는 위에서 언급이 되었으므로, 이를 구현하기 위한 세부 코드에 대해 연습을 통해 이해합니다."
   ]
  },
  {
   "cell_type": "markdown",
   "metadata": {},
   "source": [
    "<div class=\"alert alert-block\" style=\"border: 1px solid #FFB300;background-color:#F9FBE7;font-size:1em;line-height:1.4em\">\n",
    "<font size=\"4em\" style=\"font-weight:bold;color:#3f8dbf;\">프로그래밍 연습</font><br><br>\n",
    "- 다음 리스트를 맨 앞에 데이터를 기준으로 작은 데이터는 left 변수에, 그렇지 않은 데이터는 right 변수에 넣기\n",
    "    \n",
    "<pre>\n",
    "Integer[] dataList = {4, 1, 2, 5, 7}\n",
    "</pre>\n",
    "</div>"
   ]
  },
  {
   "cell_type": "code",
   "execution_count": 1,
   "metadata": {},
   "outputs": [],
   "source": [
    "public class Split {\n",
    "    public void splitFunc(ArrayList<Integer> dataList) {\n",
    "        if (dataList.size() <= 1) {\n",
    "            return ;\n",
    "        }\n",
    "        int pivot = dataList.get(0);\n",
    "        \n",
    "        ArrayList<Integer> leftArr = new ArrayList<>();\n",
    "        ArrayList<Integer> rightArr = new ArrayList<>();        \n",
    "        \n",
    "        /* 한번 고민해서 작성해보세요 */\n",
    "        System.out.println(leftArr);\n",
    "        System.out.println(pivot);\n",
    "        System.out.println(rightArr);        \n",
    "    }\n",
    "}"
   ]
  },
  {
   "cell_type": "markdown",
   "metadata": {},
   "source": [
    "### 참고 & 테스트\n",
    "- 배열을 ArrayList 로 변환하기\n",
    "  - Arrays.asList() 메서드에 넣어주면, ArrayList 에서 사용할 수 있음\n",
    "```java\n",
    "int[] array = {4, 1, 2, 5, 7}; \n",
    "ArrayList<Integer> list = new ArrayList<Integer>(Arrays.asList(array));\n",
    "```"
   ]
  },
  {
   "cell_type": "code",
   "execution_count": 2,
   "metadata": {},
   "outputs": [
    {
     "name": "stdout",
     "output_type": "stream",
     "text": [
      "[1, 2]\n",
      "4\n",
      "[5, 7]\n"
     ]
    }
   ],
   "source": [
    "ArrayList<Integer> dataList = new ArrayList<Integer>(Arrays.asList(4, 1, 2, 5, 7));\n",
    "Split sObject = new Split();\n",
    "sObject.splitFunc(dataList);"
   ]
  },
  {
   "cell_type": "markdown",
   "metadata": {},
   "source": [
    "<div class=\"alert alert-block\" style=\"border: 1px solid #FFB300;background-color:#F9FBE7;font-size:1em;line-height:1.4em\">\n",
    "<font size=\"4em\" style=\"font-weight:bold;color:#3f8dbf;\">JAVA 프로그래밍 연습</font><br><br>\n",
    "dataList 가 다음 세 데이터를 가지고 있을 때 맨 앞에 데이터를 기준으로 <br> \n",
    "   - 작은 데이터는 left 변수에,  <br> \n",
    "   - 그렇지 않은 데이터는 right 변수에 넣고  <br> \n",
    "   - left, right, pivot 변수에 들어 있는 배열 아이템들을 하나의 배열로 정렬하여 출력해보기<br>\n",
    "</div>\n",
    "<pre>\n",
    "Integer[] dataList = {3, 4, 2}\n",
    "</pre>\n",
    "\n",
    "> JAVA 버전별로 다양한 기법이 있지만, 본 강의가 JAVA 강의가 아니므로, <br>\n",
    "최대한 JAVA의 기본 기능을 사용해서 작성하기로 함 <br>\n",
    "단, 그렇다고 조건문/반복문 으로만 작성하면, 링크드리스트부터 시작해서, 핵심 로직과 관련 없는 상당한 코드를 작성해야 하므로, <br>\n",
    "JAVA의 일반적인 기능을 사용해서, 핵심 로직 이해와 작성에 집중하도록 함 \n",
    "\n",
    "</div>"
   ]
  },
  {
   "cell_type": "code",
   "execution_count": 3,
   "metadata": {},
   "outputs": [],
   "source": [
    "public class Split {\n",
    "    public void splitFunc(ArrayList<Integer> dataList) {\n",
    "        if (dataList.size() <= 1) {\n",
    "            return ;\n",
    "        }\n",
    "        int pivot = dataList.get(0);\n",
    "        ArrayList<Integer> leftArr = new ArrayList<>();\n",
    "        ArrayList<Integer> rightArr = new ArrayList<>();        \n",
    "        \n",
    "               /* 한번 고민해서 작성해보세요 */\n",
    "        \n",
    "        ArrayList<Integer> mergedArr = new ArrayList<>();\n",
    "                /* 한번 고민해서 작성해보세요 */\n",
    "        System.out.println(mergedArr);\n",
    "    }\n",
    "}"
   ]
  },
  {
   "cell_type": "code",
   "execution_count": 4,
   "metadata": {},
   "outputs": [
    {
     "name": "stdout",
     "output_type": "stream",
     "text": [
      "[1, 2, 4, 5, 7]\n"
     ]
    }
   ],
   "source": [
    "ArrayList<Integer> dataList = new ArrayList<Integer>(Arrays.asList(4, 1, 2, 5, 7));\n",
    "Split sObject = new Split();\n",
    "sObject.splitFunc(dataList);"
   ]
  },
  {
   "cell_type": "markdown",
   "metadata": {},
   "source": [
    "### 3. 알고리즘 구현 (프로젝트: CH19_QUICKSORT)\n",
    "* QuickSort.sort() 함수 만들기\n",
    "  - 만약 리스트 갯수가 한개이면 해당 리스트 리턴\n",
    "  - 그렇지 않으면, 리스트 맨 앞의 데이터를 기준점(pivot)으로 놓기\n",
    "  - left, right 리스트 변수를 만들고,\n",
    "  - 맨 앞의 데이터를 뺀 나머지 데이터를 기준점과 비교(pivot)\n",
    "    - 기준점보다 작으면 left.add(해당 데이터)\n",
    "    - 기준점보다 크면 right.add(해당 데이터)\n",
    "  - 결국 QuickSort.sort(left) + pivot + QuickSort.sort(right) 을 리턴하는 방식으로 재귀 호출\n",
    " "
   ]
  },
  {
   "cell_type": "code",
   "execution_count": 5,
   "metadata": {},
   "outputs": [],
   "source": [
    "public class QuickSort {\n",
    "    public ArrayList<Integer> sort(ArrayList<Integer> dataList) {\n",
    "        if (dataList.size() <= 1) {\n",
    "            return dataList;\n",
    "        }\n",
    "        int pivot = dataList.get(0);\n",
    "        ArrayList<Integer> leftArr = new ArrayList<>();\n",
    "        ArrayList<Integer> rightArr = new ArrayList<>();        \n",
    "        \n",
    "        /* 한번 고민해서 작성해보세요 */\n",
    "        \n",
    "        ArrayList<Integer> mergedArr = new ArrayList<>();\n",
    "        /* 한번 고민해서 작성해보세요 */\n",
    "        return mergedArr;\n",
    "    }\n",
    "}"
   ]
  },
  {
   "cell_type": "code",
   "execution_count": 6,
   "metadata": {},
   "outputs": [
    {
     "data": {
      "text/plain": [
       "[0, 0, 0, 0, 1, 3, 5, 5, 5, 7, 8, 9, 11, 12, 12, 13, 13, 13, 14, 14, 15, 17, 18, 19, 20, 20, 20, 21, 21, 21, 22, 23, 23, 25, 25, 26, 27, 28, 29, 31, 32, 36, 37, 37, 38, 40, 41, 43, 43, 44, 45, 47, 50, 50, 51, 52, 52, 53, 56, 56, 57, 57, 59, 61, 62, 62, 64, 66, 66, 66, 69, 70, 71, 72, 74, 74, 74, 74, 76, 76, 77, 79, 80, 80, 80, 80, 82, 83, 85, 88, 88, 91, 93, 93, 94, 94, 95, 96, 96, 99]"
      ]
     },
     "execution_count": 6,
     "metadata": {},
     "output_type": "execute_result"
    }
   ],
   "source": [
    "ArrayList<Integer> testData = new ArrayList<Integer>();\n",
    "\n",
    "for (int index = 0; index < 100; index++) {\n",
    "    testData.add((int)(Math.random() * 100));\n",
    "}\n",
    "\n",
    "QuickSort qSort = new QuickSort();\n",
    "qSort.sort(testData);"
   ]
  },
  {
   "cell_type": "markdown",
   "metadata": {
    "collapsed": true
   },
   "source": [
    "### 4. 알고리즘 분석\n",
    "* <font color='#BF360C'>병합정렬과 유사, 시간복잡도는 O(n log n)</font>\n",
    "  - 단, 최악의 경우 \n",
    "    - 이미 정렬된 배열에서 pivot이 가장 크거나, 가장 작으면 가장 큰 시간이 소요됨\n",
    "    - 모든 데이터를 비교하는 상황이 나옴\n",
    "    - O($n^2$)\n",
    "<img src=\"https://www.fun-coding.org/00_Images/quicksortworks.jpg\" />\n"
   ]
  },
  {
   "cell_type": "markdown",
   "metadata": {},
   "source": [
    "### 5. 참고: Arrays.sort VS Collections.sort\n",
    "- JAVA 에서 주로 사용하는 정렬 메서드\n",
    "- Arrays.sort는 배열 정렬, Collections.sort는 List 정렬\n",
    "  - Arrays.sort() : 듀얼피봇 퀵정렬 (피봇을 두 개를 두고, 3개의 구간으로 나누어 퀵정렬 수행)\n",
    "  - Collections.sort() : Tim정렬 사용\n",
    "    - Tim정렬: 삽입 정렬과 병합 정렬을 결합하여 만든 정렬\n",
    "      - Timsort의 시간복잡도는 평균 O(n log(n)) 이며 최악의 경우도 O(n log(n))\n",
    "\n",
    "> Collections.sort() 가 성능이 보다 좋으므로, Collections.sort() 사용 권장"
   ]
  },
  {
   "cell_type": "markdown",
   "metadata": {},
   "source": [
    "<div class=\"alert alert-block\" style=\"border: 1px solid #FFB300;background-color:#F9FBE7;font-size:1em;line-height:1.4em\">\n",
    "<font size=\"4em\" style=\"font-weight:bold;color:#3f8dbf;\">프로그래밍 연습</font><br><br>\n",
    "- 설명한 퀵 정렬을 알고리즘 연습 방법에 따라서, 관련 코드를 보지 않고, 직접 생각해서, 알고리즘 연습 방법에 따라, 작성해보세요\n",
    "</div>"
   ]
  },
  {
   "cell_type": "markdown",
   "metadata": {},
   "source": [
    "<div class=\"alert alert-block\" style=\"border: 1px solid #455A64;background-color:#ECEFF1;padding:5px;font-size:0.9em;\">\n",
    "본 자료와 관련 영상 컨텐츠는 저작권법 제25조 2항에 의해 보호를 받습니다. <br>본 컨텐츠 및 컨텐츠 일부 문구 등을 외부에 공개하거나, 요약해서 게시하지 말아주세요.<br>\n",
    "    <a href='https://www.fun-coding.org'>잔재미코딩(www.fun-coding.org) Dave Lee</a>\n",
    "</div>"
   ]
  }
 ],
 "metadata": {
  "kernelspec": {
   "display_name": "Java",
   "language": "java",
   "name": "java"
  },
  "language_info": {
   "codemirror_mode": "java",
   "file_extension": ".jshell",
   "mimetype": "text/x-java-source",
   "name": "Java",
   "pygments_lexer": "java",
   "version": "15.0.2+7-27"
  }
 },
 "nbformat": 4,
 "nbformat_minor": 4
}
