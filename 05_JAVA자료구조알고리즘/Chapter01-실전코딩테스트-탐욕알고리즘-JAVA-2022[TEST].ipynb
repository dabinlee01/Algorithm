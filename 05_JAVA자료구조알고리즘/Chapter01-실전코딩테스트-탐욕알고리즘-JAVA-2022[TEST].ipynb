{
 "cells": [
  {
   "cell_type": "markdown",
   "id": "046a9862",
   "metadata": {},
   "source": [
    "<div class=\"alert alert-block\" style=\"border: 1px solid #455A64;background-color:#ECEFF1;padding:5px;font-size:0.9em;\">\n",
    "본 자료와 관련 영상 컨텐츠는 저작권법 제25조 2항에 의해 보호를 받습니다. <br>본 컨텐츠 및 컨텐츠 일부 문구 등을 외부에 공개하거나, 요약해서 게시하지 말아주세요.<br>\n",
    "    <a href='https://www.fun-coding.org'>잔재미코딩(www.fun-coding.org) Dave Lee</a>\n",
    "</div>"
   ]
  },
  {
   "cell_type": "markdown",
   "id": "fe4dce7b",
   "metadata": {
    "pycharm": {
     "name": "#%% md\n"
    }
   },
   "source": [
    "### 실전 코딩 테스트 - 탐욕 알고리즘 (Greedy, 그리디)"
   ]
  },
  {
   "cell_type": "markdown",
   "id": "52a72323",
   "metadata": {},
   "source": [
    "### 1. 연습문제:  동전 https://www.acmicpc.net/problem/11047\n",
    "\n",
    "<div class=\"alert alert-block\" style=\"border: 2px solid #E65100;background-color:#FFF3E0;padding:10px\">\n",
    "<font size=\"4em\" style=\"color:#BF360C;\">대표적인 문제로 탐욕 알고리즘을 익히면, 처음 익히는 예제</font><br>\n",
    "    <font size=\"4em\" style=\"color:#BF360C;\">익숙한 문제로 탐욕 알고리즘을 이해하고, 몸과 마음 풀기</font>\n",
    "</div>"
   ]
  },
  {
   "cell_type": "code",
   "execution_count": 24,
   "id": "cc8b9a85",
   "metadata": {},
   "outputs": [
    {
     "name": "stdout",
     "output_type": "stream",
     "text": [
      "6\n"
     ]
    }
   ],
   "source": []
  },
  {
   "cell_type": "markdown",
   "id": "d6fc5e36",
   "metadata": {
    "pycharm": {
     "name": "#%% md\n"
    }
   },
   "source": [
    "### 2. 연습문제:  ATM https://www.acmicpc.net/problem/11399\n",
    "\n",
    "<div class=\"alert alert-block\" style=\"border: 2px solid #E65100;background-color:#FFF3E0;padding:10px\">\n",
    "<font size=\"4em\" style=\"color:#BF360C;\">코드 패턴을 생각해보세요</font>\n",
    "</div>"
   ]
  },
  {
   "cell_type": "code",
   "execution_count": 2,
   "id": "cbd6ff49",
   "metadata": {
    "pycharm": {
     "name": "#%%\n"
    }
   },
   "outputs": [
    {
     "name": "stdout",
     "output_type": "stream",
     "text": [
      "32\n"
     ]
    }
   ],
   "source": []
  },
  {
   "cell_type": "markdown",
   "id": "5fb127d9",
   "metadata": {
    "pycharm": {
     "name": "#%% md\n"
    }
   },
   "source": [
    "### 3. 연습문제:  https://www.acmicpc.net/problem/2012\n",
    "\n",
    "<div class=\"alert alert-block\" style=\"border: 2px solid #E65100;background-color:#FFF3E0;padding:10px\">\n",
    "<font size=\"4em\" style=\"color:#BF360C;\">이제 코드 패턴을 머릿속에 넣어보고, 적용해보세요</font>\n",
    "</div>"
   ]
  },
  {
   "cell_type": "markdown",
   "id": "33e68577",
   "metadata": {},
   "source": [
    "- 참고1: Math.abs(data) --> data 의 절대값을 리턴함"
   ]
  },
  {
   "cell_type": "markdown",
   "id": "73b4559a",
   "metadata": {},
   "source": [
    "- 참고2:\n",
    "  - short      부호 있는 정수    16 bits      -32768 ~ 32767\n",
    "  - int        부호 있는 정수    32 bits      -2147483648 ~ 2147483647\n",
    "  - long       부호 있는 정수    64 bits      -9223372036854775808 ~ 9223372036854775807\n",
    "  \n",
    "<div class=\"alert alert-block\" style=\"border: 2px solid #E65100;background-color:#FFF3E0;padding:10px\">\n",
    "<font size=\"4em\" style=\"color:#BF360C;\">가능하면, 정수 답 제출시, long 으로 제출하세요~</font>\n",
    "</div>"
   ]
  },
  {
   "cell_type": "code",
   "execution_count": 28,
   "id": "d0d942cc",
   "metadata": {
    "pycharm": {
     "name": "#%%\n"
    }
   },
   "outputs": [
    {
     "name": "stdout",
     "output_type": "stream",
     "text": [
      "3\n"
     ]
    }
   ],
   "source": []
  },
  {
   "cell_type": "markdown",
   "id": "d057d492",
   "metadata": {},
   "source": [
    "### 4. 연습문제: 주유소 https://www.acmicpc.net/problem/13305\n",
    "<div class=\"alert alert-block\" style=\"border: 2px solid #E65100;background-color:#FFF3E0;padding:10px\">\n",
    "<font size=\"4em\" style=\"color:#BF360C;\">탐욕 코딩 패턴 이외에 탐욕 컨셉만 가지고 푸는 문제들도 있음</font>\n",
    "</div>"
   ]
  },
  {
   "cell_type": "markdown",
   "id": "9183c95f",
   "metadata": {},
   "source": [
    "- 참고2:\n",
    "  - short      부호 있는 정수    16 bits      -32768 ~ 32767\n",
    "  - int        부호 있는 정수    32 bits      -2147483648 ~ 2147483647\n",
    "  - long       부호 있는 정수    64 bits      -9223372036854775808 ~ 9223372036854775807\n",
    "  \n",
    "<div class=\"alert alert-block\" style=\"border: 2px solid #E65100;background-color:#FFF3E0;padding:10px\">\n",
    "<font size=\"4em\" style=\"color:#BF360C;\">가능하면, 정수 답 제출시, long 으로 제출하세요~</font>\n",
    "</div>"
   ]
  },
  {
   "cell_type": "code",
   "execution_count": 16,
   "id": "7aebf320",
   "metadata": {},
   "outputs": [
    {
     "name": "stdout",
     "output_type": "stream",
     "text": [
      "10\n"
     ]
    }
   ],
   "source": []
  },
  {
   "cell_type": "markdown",
   "id": "75bc5745",
   "metadata": {},
   "source": [
    "### 5. 연습문제: 잃어버린 기호 https://www.acmicpc.net/problem/1541\n",
    "<div class=\"alert alert-block\" style=\"border: 2px solid #E65100;background-color:#FFF3E0;padding:10px\">\n",
    "<font size=\"4em\" style=\"color:#BF360C;\">탐욕 코딩 패턴 이외에 탐욕 컨셉만 가지고 푸는 문제들도 있음</font>\n",
    "</div>"
   ]
  },
  {
   "cell_type": "code",
   "execution_count": 24,
   "id": "a5380d51",
   "metadata": {},
   "outputs": [
    {
     "name": "stdout",
     "output_type": "stream",
     "text": [
      "0\n"
     ]
    }
   ],
   "source": []
  },
  {
   "cell_type": "markdown",
   "id": "44aa5bff",
   "metadata": {},
   "source": [
    "### 6. 연습문제: 뒤집기 https://www.acmicpc.net/problem/1439\n",
    "\n",
    "<div class=\"alert alert-block\" style=\"border: 2px solid #E65100;background-color:#FFF3E0;padding:10px\">\n",
    "<font size=\"4em\" style=\"color:#BF360C;\">기출 문제</font><br>\n",
    "<font size=\"4em\" style=\"color:#BF360C;\">패턴을 찾아 최적의 해를 찾는 공식을 찾으면 풀리는 문제로, 전형적인 탐욕알고리즘의 변형으로 볼 수 있음</font>\n",
    "</div>"
   ]
  },
  {
   "cell_type": "code",
   "execution_count": null,
   "id": "677250cd",
   "metadata": {},
   "outputs": [],
   "source": []
  },
  {
   "cell_type": "markdown",
   "id": "5179b392",
   "metadata": {},
   "source": [
    "### 7. 연습문제: 시험감독 https://www.acmicpc.net/problem/13458\n",
    "\n",
    "<div class=\"alert alert-block\" style=\"border: 2px solid #E65100;background-color:#FFF3E0;padding:10px\">\n",
    "<font size=\"4em\" style=\"color:#BF360C;\">S전자 코딩테스트 기출 문제</font>\n",
    "</div>"
   ]
  },
  {
   "cell_type": "markdown",
   "id": "75430614",
   "metadata": {},
   "source": [
    "<div class=\"alert alert-block\" style=\"border: 2px solid #E65100;background-color:#FFF3E0;padding:10px\">\n",
    "<font size=\"4em\" style=\"font-weight:bold;color:#BF360C;\">코딩 테스트 팁</font><br><br>\n",
    "<font size=\"3em\" style=\"color:#BF360C;\">어떤 유형인지를 파악하려고 노력해보세요!</font><br>\n",
    "<font size=\"3em\" style=\"color:#BF360C;\">특정 유형으로 판단되면, 해당 유형의 코딩 패턴으로 작성해보세요</font><br>\n",
    "<font size=\"3em\" style=\"color:#BF360C;\">그러면, 멘탈 관리가 가능하고, 자신감 있게 진행할 수 있습니다</font><br>    \n",
    "</div>"
   ]
  },
  {
   "cell_type": "code",
   "execution_count": 30,
   "id": "88d5d16e",
   "metadata": {},
   "outputs": [
    {
     "name": "stdout",
     "output_type": "stream",
     "text": [
      "1\n"
     ]
    }
   ],
   "source": []
  },
  {
   "cell_type": "markdown",
   "id": "79468848",
   "metadata": {},
   "source": [
    "<div class=\"alert alert-block\" style=\"border: 1px solid #455A64;background-color:#ECEFF1;padding:5px;font-size:0.9em;\">\n",
    "본 자료와 관련 영상 컨텐츠는 저작권법 제25조 2항에 의해 보호를 받습니다. <br>본 컨텐츠 및 컨텐츠 일부 문구 등을 외부에 공개하거나, 요약해서 게시하지 말아주세요.<br>\n",
    "    <a href='https://www.fun-coding.org'>잔재미코딩(www.fun-coding.org) Dave Lee</a>\n",
    "</div>"
   ]
  }
 ],
 "metadata": {
  "kernelspec": {
   "display_name": "Java",
   "language": "java",
   "name": "java"
  },
  "language_info": {
   "codemirror_mode": "java",
   "file_extension": ".jshell",
   "mimetype": "text/x-java-source",
   "name": "Java",
   "pygments_lexer": "java",
   "version": "15.0.2+7-27"
  }
 },
 "nbformat": 4,
 "nbformat_minor": 5
}
