{
 "cells": [
  {
   "cell_type": "markdown",
   "id": "bc45d590",
   "metadata": {},
   "source": [
    "<div class=\"alert alert-block\" style=\"border: 1px solid #455A64;background-color:#ECEFF1;padding:5px;font-size:0.9em;\">\n",
    "본 자료와 관련 영상 컨텐츠는 저작권법 제25조 2항에 의해 보호를 받습니다. <br>본 컨텐츠 및 컨텐츠 일부 문구 등을 외부에 공개하거나, 요약해서 게시하지 말아주세요.<br>\n",
    "    <a href='https://www.fun-coding.org'>잔재미코딩(www.fun-coding.org) Dave Lee</a>\n",
    "</div>"
   ]
  },
  {
   "cell_type": "markdown",
   "id": "55f80c88",
   "metadata": {
    "pycharm": {
     "name": "#%% md\n"
    }
   },
   "source": [
    "<div class=\"alert alert-block\" style=\"border: 2px solid #E65100;background-color:#FFF3E0;padding:10px\">\n",
    "<font size=\"4em\" style=\"font-weight:bold;color:#BF360C;\">코딩 테스트 학습 팁</font><br><br>\n",
    "<font size=\"3em\" style=\"color:#BF360C;\">알고리즘을 익힌 후, 해당 알고리즘과 관련된 문제만 연이어서 쭈욱 풀어보는 방식이 가장 좋습니다</font><br>\n",
    "<font size=\"3em\" style=\"color:#BF360C;\">처음 알고리즘을 익힐 때는 알고리즘을 익힐 때 풀이한 문제를 중심으로 하되,</font><br>\n",
    "<font size=\"3em\" style=\"color:#BF360C;\">필요하면 감을 가지기 위해 여기에 최대한 가장 쉬운 한 두 문제를 푸시고,</font>\n",
    "<font size=\"3em\" style=\"color:#BF360C;\">전체 알고리즘을 다 익힌 후, 가능하면</font><br> \n",
    "<font size=\"3em\" style=\"color:#BF360C;\">각 알고리즘별로 며칠동안 해당 알고리즘 관련 문제만 묶어서 연이어 풀어보세요!</font>\n",
    "</div>"
   ]
  },
  {
   "cell_type": "markdown",
   "id": "8610cac5",
   "metadata": {
    "pycharm": {
     "name": "#%% md\n"
    }
   },
   "source": [
    "### 실전 코딩 테스트 - 동적 계획법"
   ]
  },
  {
   "cell_type": "markdown",
   "id": "fa0c7cbf",
   "metadata": {},
   "source": [
    "### 0. 세상에서 가장 쉽게! 코딩 패턴 익히기 (동적 계획법)\n",
    "- 할 수 있따!!!!\n",
    "```java\n",
    "int N = 7; // 출력해야 하는 N 번째 (보통 입력으로 주어짐, Integer.parseInt(br.readLine()))\n",
    "int[] dp = new int[N + 1];\n",
    "dp[1] = 1; // 1번째의 결과값\n",
    "dp[2] = 2; // 2번째의 결과값\n",
    "for (int i = 3; i <= N; i++) { // (가장 처음 점화식으로 계산되는 번째, 최대치 + 1)\n",
    "    dp[index] = dp[index - 1] + dp[index - 2];\n",
    "}\n",
    "System.out.println(dp[N]); // N 번째 값 출력\n",
    "```"
   ]
  },
  {
   "cell_type": "markdown",
   "id": "bf848365",
   "metadata": {},
   "source": [
    "<div class=\"alert alert-block\" style=\"border: 2px solid #E65100;background-color:#FFF3E0;padding:10px\">\n",
    "<font size=\"4em\" style=\"font-weight:bold;color:#BF360C;\">연습1</font><br><br>\n",
    "<font size=\"3em\" style=\"color:#BF360C;\">점화식: dp[index] = dp[index - 1] + dp[index - 2]</font><br>\n",
    "<font size=\"3em\" style=\"color:#BF360C;\">초기값: dp[1] = 2,  dp[2] = 4</font><br>\n",
    "<font size=\"3em\" style=\"color:#BF360C;\">N 이 7번째 값 출력하기</font>    \n",
    "</div>"
   ]
  },
  {
   "cell_type": "code",
   "execution_count": 1,
   "id": "739bc4ea",
   "metadata": {},
   "outputs": [
    {
     "name": "stdout",
     "output_type": "stream",
     "text": [
      "42\n"
     ]
    }
   ],
   "source": []
  },
  {
   "cell_type": "markdown",
   "id": "684ca851",
   "metadata": {},
   "source": [
    "<div class=\"alert alert-block\" style=\"border: 2px solid #E65100;background-color:#FFF3E0;padding:10px\">\n",
    "<font size=\"4em\" style=\"font-weight:bold;color:#BF360C;\">연습2</font><br><br>\n",
    "<font size=\"3em\" style=\"color:#BF360C;\">점화식: dp[index] = dp[index - 1] + dp[index - 3]</font><br>\n",
    "<font size=\"3em\" style=\"color:#BF360C;\">초기값: dp[1] = 3,  dp[2] = 5, dp[3] = 7</font><br>\n",
    "<font size=\"3em\" style=\"color:#BF360C;\">N 이 20번째 값 출력하기</font>    \n",
    "</div>"
   ]
  },
  {
   "cell_type": "code",
   "execution_count": 2,
   "id": "01fd9ba3",
   "metadata": {},
   "outputs": [
    {
     "name": "stdout",
     "output_type": "stream",
     "text": [
      "32\n"
     ]
    }
   ],
   "source": []
  },
  {
   "cell_type": "markdown",
   "id": "c885407c",
   "metadata": {},
   "source": [
    "<div class=\"alert alert-block\" style=\"border: 2px solid #E65100;background-color:#FFF3E0;padding:10px\">\n",
    "<font size=\"4em\" style=\"font-weight:bold;color:#BF360C;\">연습3</font><br><br>\n",
    "<font size=\"3em\" style=\"color:#BF360C;\">점화식: dp[index] = dp[index - 1] + dp[index - 2] + dp[index - 3]</font><br>\n",
    "<font size=\"3em\" style=\"color:#BF360C;\">초기값: dp[1] = 1,  dp[2] = 2, dp[3] = 3</font><br>    \n",
    "<font size=\"3em\" style=\"color:#BF360C;\">N 이 50번째 값 출력하기</font>    \n",
    "</div>"
   ]
  },
  {
   "cell_type": "code",
   "execution_count": 3,
   "id": "a2f0a130",
   "metadata": {},
   "outputs": [
    {
     "name": "stdout",
     "output_type": "stream",
     "text": [
      "37\n"
     ]
    }
   ],
   "source": []
  },
  {
   "cell_type": "markdown",
   "id": "0aa8ec56",
   "metadata": {},
   "source": [
    "### 0. 연습문제: 피보나치수열 https://www.acmicpc.net/problem/2747\n",
    "\n",
    "<div class=\"alert alert-block\" style=\"border: 2px solid #E65100;background-color:#FFF3E0;padding:10px\">\n",
    "<font size=\"4em\" style=\"font-weight:bold;color:#BF360C;\">코딩 테스트 팁</font><br><br>\n",
    "<font size=\"3em\" style=\"color:#BF360C;\">일반적인 동적 계획법 문제는 <b>가장 적은 경우의 수부터 계산을 해본 후, 패턴을 찾아,</b> 식(점화식)을 세우는 것이 핵심!</font><br>\n",
    "</div>"
   ]
  },
  {
   "cell_type": "code",
   "execution_count": 4,
   "id": "d07f3890",
   "metadata": {},
   "outputs": [
    {
     "name": "stdout",
     "output_type": "stream",
     "text": [
      "55\n"
     ]
    }
   ],
   "source": []
  },
  {
   "cell_type": "markdown",
   "id": "c6b888f5",
   "metadata": {
    "pycharm": {
     "name": "#%% md\n"
    }
   },
   "source": [
    "### 1. 연습 문제: 2xn 타일링 https://www.acmicpc.net/problem/11726"
   ]
  },
  {
   "cell_type": "markdown",
   "id": "f6368991",
   "metadata": {},
   "source": [
    "<div class=\"alert alert-block\" style=\"border: 2px solid #E65100;background-color:#FFF3E0;padding:10px\">\n",
    "<font size=\"4em\" style=\"font-weight:bold;color:#BF360C;\">코딩 테스트 팁</font><br><br>\n",
    "<font size=\"3em\" style=\"color:#BF360C;\">일반적인 동적 계획법 문제는 <b>가장 적은 경우의 수부터 계산을 해본 후, 패턴을 찾아,</b> 식(점화식)을 세우는 것이 핵심!</font><br>\n",
    "<font size=\"3em\" style=\"color:#BF360C;\">일반적인 동적 계획법 패턴 기반 문제는 입력값과 출력값을 고려해볼 필요가 있음</font><br>\n",
    "</div>"
   ]
  },
  {
   "cell_type": "code",
   "execution_count": null,
   "id": "58ac08b5",
   "metadata": {},
   "outputs": [],
   "source": []
  },
  {
   "cell_type": "markdown",
   "id": "350aa711",
   "metadata": {
    "pycharm": {
     "name": "#%% md\n"
    }
   },
   "source": [
    "### 2. 연습문제: 파도반수열 https://www.acmicpc.net/problem/9461"
   ]
  },
  {
   "cell_type": "markdown",
   "id": "5afb6a9d",
   "metadata": {},
   "source": [
    "<div class=\"alert alert-block\" style=\"border: 2px solid #E65100;background-color:#FFF3E0;padding:10px\">\n",
    "<font size=\"4em\" style=\"font-weight:bold;color:#BF360C;\">코딩 테스트 팁</font><br><br>\n",
    "<font size=\"3em\" style=\"color:#BF360C;\">최근 수학 문제는 언어영역과 유사합니다 (이 부분에 적응하는데 시간이 걸릴 수 있습니다)</font><br>\n",
    "<font size=\"3em\" style=\"color:#BF360C;\">특히 입력이 어떻게 주어지는지, 출력이 어떻게 주어지는지는 최대한 꼼꼼히 확인하고, 그대로 작성해야 합니다</font><br>\n",
    "</div>"
   ]
  },
  {
   "cell_type": "code",
   "execution_count": 189,
   "id": "fd7f8e1e",
   "metadata": {},
   "outputs": [
    {
     "name": "stdout",
     "output_type": "stream",
     "text": [
      "3\n",
      "16\n"
     ]
    }
   ],
   "source": []
  },
  {
   "cell_type": "markdown",
   "id": "5d9a3f88",
   "metadata": {
    "pycharm": {
     "name": "#%% md\n"
    }
   },
   "source": [
    "### 3. 연습문제: 01타일 https://www.acmicpc.net/problem/1904"
   ]
  },
  {
   "cell_type": "markdown",
   "id": "24960633",
   "metadata": {},
   "source": [
    "<div class=\"alert alert-block\" style=\"border: 2px solid #E65100;background-color:#FFF3E0;padding:10px\">\n",
    "<font size=\"4em\" style=\"font-weight:bold;color:#BF360C;\">코딩 테스트 팁</font><br><br>\n",
    "<font size=\"3em\" style=\"color:#BF360C;\">규칙을 찾는 것은 경험일 수 있습니다만, 우연히 빠르게 찾게 되면 술술 풀리고, 헤메면 당황할 수 있습니다</font><br>\n",
    "<font size=\"3em\" style=\"color:#BF360C;\">최대한 그림을 그려보면서, 힌트를 찾아보고, 힌트가 안보이면, 다른 각도로 그림을 그려보며 힌트를 찾아야 함 (멘탈 관리 필요)</font><br>\n",
    "<font size=\"3em\" style=\"color:#BF360C;\">제출 후, 에러나면, 메모리 에러, 시간 초과 에러가 많을 수 있으므로, 이런 부분도 고려할 필요가 있음</font><br>    \n",
    "</div>"
   ]
  },
  {
   "cell_type": "code",
   "execution_count": 191,
   "id": "2d822a18",
   "metadata": {
    "scrolled": true
   },
   "outputs": [
    {
     "name": "stdout",
     "output_type": "stream",
     "text": [
      "5\n"
     ]
    }
   ],
   "source": []
  },
  {
   "cell_type": "markdown",
   "id": "0ba2d1a4",
   "metadata": {},
   "source": [
    "### 4. 연습문제: 연속합 https://www.acmicpc.net/problem/1912\n",
    "<div class=\"alert alert-block\" style=\"border: 2px solid #E65100;background-color:#FFF3E0;padding:10px\">\n",
    "<font size=\"4em\" style=\"font-weight:bold;color:#BF360C;\">코딩 테스트 팁</font><br><br>\n",
    "<font size=\"3em\" style=\"color:#BF360C;\">전형적인 점화식이 아닌 경우도 있으므로, 이 부분도 활용할 수 있어야 함</font><br>    \n",
    "</div>"
   ]
  },
  {
   "cell_type": "code",
   "execution_count": null,
   "id": "0a6329ba",
   "metadata": {},
   "outputs": [],
   "source": []
  },
  {
   "cell_type": "markdown",
   "id": "4b852071",
   "metadata": {},
   "source": [
    "### 5. 연습문제: 퇴사 https://www.acmicpc.net/problem/14501"
   ]
  },
  {
   "cell_type": "markdown",
   "id": "03af6496",
   "metadata": {},
   "source": [
    "<div class=\"alert alert-block\" style=\"border: 2px solid #E65100;background-color:#FFF3E0;padding:10px\">\n",
    "<font size=\"4em\" style=\"color:#BF360C;\">S전자 코딩테스트 기출 문제</font><br>\n",
    "<font size=\"4em\" style=\"color:#BF360C;\">역순 동적계획법 이해</font><br>\n",
    "</div>"
   ]
  },
  {
   "cell_type": "markdown",
   "id": "d8978c97",
   "metadata": {},
   "source": [
    "> 코딩 팁: Math.max(a, b) 함수는 a 와 b 중 높은 값을 리턴해줌"
   ]
  },
  {
   "cell_type": "code",
   "execution_count": 193,
   "id": "14ce2a9c",
   "metadata": {},
   "outputs": [
    {
     "name": "stdout",
     "output_type": "stream",
     "text": [
      "90\n"
     ]
    }
   ],
   "source": []
  },
  {
   "cell_type": "markdown",
   "id": "4e2b56ca",
   "metadata": {},
   "source": [
    "### 6. 연습문제: palindrome https://www.acmicpc.net/problem/10942\n",
    "<div class=\"alert alert-block\" style=\"border: 2px solid #E65100;background-color:#FFF3E0;padding:10px\">\n",
    "<font size=\"4em\" style=\"color:#BF360C;\">쿠X 코딩테스트 기출 문제</font><br>\n",
    "<font size=\"4em\" style=\"color:#BF360C;\">2차원 배열 기반 동적계획법 이해</font><br>\n",
    "</div>\n",
    "\n",
    "- 앞뒤를 뒤집어도 똑같은 문자열을 팰린드롬(palindrome) 이라고 함"
   ]
  },
  {
   "cell_type": "markdown",
   "id": "1217ff5c",
   "metadata": {},
   "source": [
    "### 시간초과 풀이"
   ]
  },
  {
   "cell_type": "code",
   "execution_count": 195,
   "id": "a46dc2a3",
   "metadata": {},
   "outputs": [
    {
     "name": "stdout",
     "output_type": "stream",
     "text": [
      "1\n",
      "0\n",
      "1\n",
      "1\n"
     ]
    }
   ],
   "source": []
  },
  {
   "cell_type": "markdown",
   "id": "186a9118",
   "metadata": {},
   "source": [
    "### 동적계획법 기반 풀이1"
   ]
  },
  {
   "cell_type": "markdown",
   "id": "f8d39724",
   "metadata": {},
   "source": [
    "- 다음 반복문은 [S][E] 가 동일할 때, S + 1 = E 일 때, S + 2 = E 일 때 순으로 반복함\n",
    "```python\n",
    "N = 4\n",
    "for index in range(N):\n",
    "    for start in range(N - index):\n",
    "        end = start + index\n",
    "        print (start, end)\n",
    "```\n",
    "\n",
    "<div class=\"alert alert-block\" style=\"border: 2px solid #E65100;background-color:#FFF3E0;padding:10px\">\n",
    "<font size=\"4em\" style=\"color:#BF360C;\">JAVA 로 제출 시 유의점</font><br>\n",
    "<font size=\"4em\" style=\"color:#BF360C;\">System.out.println() 으로 출력하면, 시간초과</font><br>\n",
    "<font size=\"4em\" style=\"color:#BF360C;\">StringBuilder 로 출력 데이터를 모은 후, 한번에 출력해야 함</font><br>\n",
    "</div>\n"
   ]
  },
  {
   "cell_type": "markdown",
   "id": "dbfa0fd1",
   "metadata": {},
   "source": [
    "<div class=\"alert alert-block\" style=\"border: 2px solid #E65100;background-color:#FFF3E0;padding:10px\">\n",
    "    <font size=\"4em\" style=\"color:#BF360C;\"><b>코딩 테스트 팁</b></font><br>\n",
    "<font size=\"4em\" style=\"color:#BF360C;\">문자열을 다루는 문제는 시간이 괜찮다면, StringBuilder 를 사용하기 (성능 개선 가능)</font>\n",
    "<font size=\"4em\" style=\"color:#BF360C;\">코딩 테스트 제출시 시간초과가 나는 경우, StringBuilder 를 사용하여 출력 성능 개선 가능</font>\n",
    "</div>\n",
    "\n",
    "### StringBuilder 주요 사용법\n",
    "- 입력 받기\n",
    "```java\n",
    "StringBuilder data = new StringBuilder();\n",
    "data.append(br.readLine()); // 문자열 코딩 테스트시 입력 받기\n",
    "System.out.println(data.length()); // 문자열 길이 알아내기\n",
    "System.out.println(data.toString()); // String 으로 변환하기\n",
    "System.out.println(data.substring(1,3)); // 문자열 추출\n",
    "System.out.println(data.append(\"FUN\")); // 문자열 추가\n",
    "System.out.println(data.reverse()); // 문자열 역순 변경\n",
    "System.out.println(data.toString().indexOf(\"UF\")); // 서브 문자열 찾기 (인덱스 번호 리턴)\n",
    "System.out.println(data.delete(0, 2)); // 일부 문자열 삭제\n",
    "```\n",
    "- 한번에 출력하기 (출력 성능 개선으로, 코딩 테스트 제출시 시간초과가 날 경우 사용 고려)\n",
    "```java\n",
    "StringBuilder data = new StringBuilder();\n",
    "data.append(\"1\\n\");\n",
    "data.append(\"0\\n\");\n",
    "System.out.println(data);\n",
    "```\n"
   ]
  },
  {
   "cell_type": "code",
   "execution_count": 200,
   "id": "61fa076f",
   "metadata": {},
   "outputs": [
    {
     "name": "stdout",
     "output_type": "stream",
     "text": [
      "1\n",
      "0\n",
      "1\n",
      "1\n"
     ]
    }
   ],
   "source": []
  },
  {
   "cell_type": "markdown",
   "id": "12b516fe",
   "metadata": {},
   "source": [
    "### 7. 연습문제: 행렬곱 https://www.acmicpc.net/problem/11049\n",
    "<div class=\"alert alert-block\" style=\"border: 2px solid #E65100;background-color:#FFF3E0;padding:10px\">\n",
    "<font size=\"4em\" style=\"color:#BF360C;\">난이도: 상급 문제이지만, 유사한 문제이므로 참고로 이해하기로 함</font>\n",
    "</div>\n",
    "\n",
    "- 행렬곱: (행수 X 열수) 라고 했을 때\n",
    "   - (3 X 2) * (2 X 4) = (3 X 4) -> 앞의 열수와 뒤의 행수가 동일해야 함 (행렬곱 조건), 결과는 (앞의 행수, 뒤의 열수) 가 됨\n",
    "   - A의 크기가 5×3이고, B의 크기가 3×2, C의 크기가 2×6인 경우,\n",
    "      - AB 는 5(A의행수) X 3(A의열수) X 2(B의 열수) => 5 X 2 \n",
    "      - AB X C 는 5 X 2 X 6(C의 행수)"
   ]
  },
  {
   "cell_type": "code",
   "execution_count": 218,
   "id": "654c82be",
   "metadata": {},
   "outputs": [
    {
     "name": "stdout",
     "output_type": "stream",
     "text": [
      "90\n"
     ]
    }
   ],
   "source": []
  },
  {
   "cell_type": "markdown",
   "id": "8bd569d9",
   "metadata": {},
   "source": [
    "### 8. 연습문제: 파일 합치기 https://www.acmicpc.net/problem/11066\n",
    "<div class=\"alert alert-block\" style=\"border: 2px solid #E65100;background-color:#FFF3E0;padding:10px\">\n",
    "<font size=\"4em\" style=\"color:#BF360C;\">난이도: 상급 문제이지만, 유사한 문제이므로 참고로 이해하기로 함</font>\n",
    "</div>"
   ]
  },
  {
   "cell_type": "markdown",
   "id": "0d85cd4f",
   "metadata": {},
   "source": [
    "### 동적 계획법 + 성능 개선 코드\n",
    "<div class=\"alert alert-block\" style=\"border: 2px solid #E65100;background-color:#FFF3E0;padding:10px\">\n",
    "<font size=\"4em\" style=\"font-weight:bold;color:#BF360C;\">시간 초과 코딩 테스트 팁</font><br><br>\n",
    "<font size=\"3em\" style=\"color:#BF360C;\">미리 계산 결과를 저장하고, 사용하도록 동적 계획법을 적용해줄 수 있음</font></div>"
   ]
  },
  {
   "cell_type": "code",
   "execution_count": null,
   "id": "f806e13d",
   "metadata": {},
   "outputs": [],
   "source": []
  },
  {
   "cell_type": "markdown",
   "id": "39409f8c",
   "metadata": {},
   "source": [
    "### 9. 연습문제: 파이프 옮기기 1 https://www.acmicpc.net/problem/17070\n",
    "<div class=\"alert alert-block\" style=\"border: 2px solid #E65100;background-color:#FFF3E0;padding:10px\">\n",
    "<font size=\"4em\" style=\"color:#BF360C;\">보드를 기반으로 푸는 문제가 다양하므로, 동적계획법 + 보드 형태에도 익숙해지기로 함</font>\n",
    "</div>\n",
    "<div class=\"alert alert-block\" style=\"border: 2px solid #E65100;background-color:#FFF3E0;padding:10px\">\n",
    "<font size=\"4em\" style=\"color:#BF360C;\">S전자 코딩테스트 기출 문제</font><br>\n",
    "<font size=\"4em\" style=\"color:#BF360C;\">동적계획법+보드 형태 이해</font><br>\n",
    "</div>"
   ]
  },
  {
   "cell_type": "code",
   "execution_count": null,
   "id": "3f58cea7",
   "metadata": {},
   "outputs": [],
   "source": []
  },
  {
   "cell_type": "markdown",
   "id": "96384c34",
   "metadata": {},
   "source": [
    "<div class=\"alert alert-block\" style=\"border: 1px solid #455A64;background-color:#ECEFF1;padding:5px;font-size:0.9em;\">\n",
    "본 자료와 관련 영상 컨텐츠는 저작권법 제25조 2항에 의해 보호를 받습니다. <br>본 컨텐츠 및 컨텐츠 일부 문구 등을 외부에 공개하거나, 요약해서 게시하지 말아주세요.<br>\n",
    "    <a href='https://www.fun-coding.org'>잔재미코딩(www.fun-coding.org) Dave Lee</a>\n",
    "</div>"
   ]
  }
 ],
 "metadata": {
  "kernelspec": {
   "display_name": "Java",
   "language": "java",
   "name": "java"
  },
  "language_info": {
   "codemirror_mode": "java",
   "file_extension": ".jshell",
   "mimetype": "text/x-java-source",
   "name": "Java",
   "pygments_lexer": "java",
   "version": "15.0.2+7-27"
  }
 },
 "nbformat": 4,
 "nbformat_minor": 5
}
