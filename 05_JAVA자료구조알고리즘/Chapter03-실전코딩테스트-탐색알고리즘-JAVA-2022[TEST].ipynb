{
 "cells": [
  {
   "cell_type": "markdown",
   "id": "6ce6d991",
   "metadata": {},
   "source": [
    "<div class=\"alert alert-block\" style=\"border: 1px solid #455A64;background-color:#ECEFF1;padding:5px;font-size:0.9em;\">\n",
    "본 자료와 관련 영상 컨텐츠는 저작권법 제25조 2항에 의해 보호를 받습니다. <br>본 컨텐츠 및 컨텐츠 일부 문구 등을 외부에 공개하거나, 요약해서 게시하지 말아주세요.<br>\n",
    "    <a href='https://www.fun-coding.org'>잔재미코딩(www.fun-coding.org) Dave Lee</a>\n",
    "</div>"
   ]
  },
  {
   "cell_type": "markdown",
   "id": "3e0b074e",
   "metadata": {
    "pycharm": {
     "name": "#%% md\n"
    }
   },
   "source": [
    "### 실전 코딩 테스트 - 탐색 알고리즘\n",
    "> 탐색 알고리즘은 완전 탐색(Brute-force) 문제와, 이진 탐색 문제로 세부 유형을 나눌 수 있음\n",
    "\n",
    "- Brute-force: 브루트 포스 라고 부르며, 무식하게 for 구문을 사용해서 푸는 문제 유형을 의미함 (즉 특별한 코딩 패턴은 없음)"
   ]
  },
  {
   "cell_type": "markdown",
   "id": "d6cac8f2",
   "metadata": {},
   "source": [
    "<div class=\"alert alert-block\" style=\"border: 2px solid #E65100;background-color:#FFF3E0;padding:10px\">\n",
    "    <font size=\"4em\" style=\"color:#BF360C;\"><b>코딩 테스트 팁</b></font><br>\n",
    "<font size=\"4em\" style=\"color:#BF360C;\">문제를 만나면, 제일 먼저 완전 탐색(브루트 포스) 적용을 고려해보세요</font><br>\n",
    "<font size=\"4em\" style=\"color:#BF360C;\">완전 탐색으로는 무리가 있으면, 특정 유형인지를 파악해보고, 유형도 떠오르지 않으면</font><br>\n",
    "<font size=\"4em\" style=\"color:#BF360C;\">동적 계획법, 그리디, 이분 탐색 순으로 풀이법을 고민해보세요!</font><br>\n",
    "</div>"
   ]
  },
  {
   "cell_type": "markdown",
   "id": "61a46c91",
   "metadata": {},
   "source": [
    "### 0. 워밍업 문제: 수학적 호기심 https://www.acmicpc.net/problem/9094"
   ]
  },
  {
   "cell_type": "code",
   "execution_count": null,
   "id": "e6c9a02e",
   "metadata": {},
   "outputs": [],
   "source": [
    "import java.io.BufferedReader;\n",
    "import java.io.ByteArrayInputStream;\n",
    "import java.io.IOException;\n",
    "import java.io.InputStreamReader;\n",
    "import java.util.StringTokenizer;\n",
    "\n",
    "public class Main {\n",
    "\n",
    "    public static void main(String[] args) throws IOException {\n",
    "        String inputData = \"\"\"\n",
    "        3\n",
    "        10 1\n",
    "        20 3\n",
    "        30 4\n",
    "        \"\"\";\n",
    "        System.setIn(new ByteArrayInputStream(inputData.getBytes()));\n",
    "\n",
    "        BufferedReader br = new BufferedReader(new InputStreamReader(System.in));\n",
    "        int T = Integer.parseInt(br.readLine());\n",
    "\n",
    "        for (int i = 1; i <= T; i++) {\n",
    "            StringTokenizer st = new StringTokenizer(br.readLine());\n",
    "            int N = Integer.parseInt(st.nextToken());\n",
    "            int M = Integer.parseInt(st.nextToken());\n",
    "            int count = 0;\n",
    "            /* 한번 작성해 보세요 */\n",
    "            System.out.println(count);\n",
    "        }\n",
    "    }\n",
    "}"
   ]
  },
  {
   "cell_type": "markdown",
   "id": "0e13903c",
   "metadata": {},
   "source": [
    "### 1. 연습문제: 유레카 이론 https://www.acmicpc.net/problem/10448\n",
    "<div class=\"alert alert-block\" style=\"border: 2px solid #E65100;background-color:#FFF3E0;padding:10px\">\n",
    "<font size=\"4em\" style=\"color:#BF360C;\">완전 탐색 (Brute-force) 문제 예</font>\n",
    "</div>"
   ]
  },
  {
   "cell_type": "code",
   "execution_count": null,
   "id": "670c0e9f",
   "metadata": {},
   "outputs": [],
   "source": []
  },
  {
   "cell_type": "markdown",
   "id": "ff6690ed",
   "metadata": {},
   "source": [
    "### 2. 연습문제: 일곱 난쟁이 https://www.acmicpc.net/problem/2309\n",
    "<div class=\"alert alert-block\" style=\"border: 2px solid #E65100;background-color:#FFF3E0;padding:10px\">\n",
    "<font size=\"4em\" style=\"color:#BF360C;\">완전 탐색 (Brute-force) 문제 예</font>\n",
    "</div>"
   ]
  },
  {
   "cell_type": "code",
   "execution_count": null,
   "id": "a2ac9c21",
   "metadata": {},
   "outputs": [],
   "source": []
  },
  {
   "cell_type": "markdown",
   "id": "1f4d3789",
   "metadata": {},
   "source": [
    "### 3. 연습문제: 문서 검색 https://www.acmicpc.net/problem/1543\n",
    "<div class=\"alert alert-block\" style=\"border: 2px solid #E65100;background-color:#FFF3E0;padding:10px\">\n",
    "<font size=\"4em\" style=\"color:#BF360C;\">완전 탐색 (Brute-force) 문제 예</font>\n",
    "</div>"
   ]
  },
  {
   "cell_type": "markdown",
   "id": "dbfa0fd1",
   "metadata": {},
   "source": [
    "<div class=\"alert alert-block\" style=\"border: 2px solid #E65100;background-color:#FFF3E0;padding:10px\">\n",
    "    <font size=\"4em\" style=\"color:#BF360C;\"><b>코딩 테스트 팁</b></font><br>\n",
    "<font size=\"4em\" style=\"color:#BF360C;\">문자열을 다루는 문제는 시간이 괜찮다면, StringBuilder 를 사용하기 (성능 개선 가능)</font>\n",
    "<font size=\"4em\" style=\"color:#BF360C;\">코딩 테스트 제출시 시간초과가 나는 경우, StringBuilder 를 사용하여 출력 성능 개선 가능</font>\n",
    "</div>\n",
    "\n",
    "### StringBuilder 주요 사용법\n",
    "- 입력 받기\n",
    "```java\n",
    "StringBuilder data = new StringBuilder();\n",
    "data.append(br.readLine()); // 문자열 코딩 테스트시 입력 받기\n",
    "System.out.println(data.length()); // 문자열 길이 알아내기\n",
    "System.out.println(data.toString()); // String 으로 변환하기\n",
    "System.out.println(data.substring(1,3)); // 문자열 추출\n",
    "System.out.println(data.append(\"FUN\")); // 문자열 추가\n",
    "System.out.println(data.reverse()); // 문자열 역순 변경\n",
    "System.out.println(data.toString().indexOf(\"UF\")); // 서브 문자열 찾기 (인덱스 번호 리턴)\n",
    "System.out.println(data.delete(0, 2)); // 일부 문자열 삭제\n",
    "```\n",
    "- 한번에 출력하기 (출력 성능 개선으로, 코딩 테스트 제출시 시간초과가 날 경우 사용 고려)\n",
    "```java\n",
    "StringBuilder data = new StringBuilder();\n",
    "data.append(\"1\\n\");\n",
    "data.append(\"0\\n\");\n",
    "System.out.println(data);\n",
    "```\n"
   ]
  },
  {
   "cell_type": "code",
   "execution_count": 1,
   "id": "3cf18f76",
   "metadata": {},
   "outputs": [
    {
     "name": "stdout",
     "output_type": "stream",
     "text": [
      "4\n",
      "TEST\n",
      "ES\n",
      "TESTFUN\n",
      "NUFTSET\n",
      "1\n",
      "FTSET\n"
     ]
    }
   ],
   "source": [
    "import java.io.BufferedReader;\n",
    "import java.io.ByteArrayInputStream;\n",
    "import java.io.IOException;\n",
    "import java.io.InputStreamReader;\n",
    "\n",
    "public class Main {\n",
    "    public static void main(String[] args) throws IOException {\n",
    "        String rawData = \"TEST\";\n",
    "        StringBuilder data = new StringBuilder(rawData);\n",
    "        System.out.println(data.length()); // 문자열 길이 알아내기\n",
    "        System.out.println(data.toString()); // String 으로 변환하기\n",
    "        System.out.println(data.substring(1,3)); // 문자열 추출\n",
    "        System.out.println(data.append(\"FUN\")); // 문자열 추가\n",
    "        System.out.println(data.reverse()); // 문자열 역순 변경\n",
    "        System.out.println(data.toString().indexOf(\"UF\")); // 서브 문자열 찾기 (인덱스 번호 리턴)\n",
    "        System.out.println(data.delete(0, 2)); // 일부 문자열 삭제\n",
    "    }\n",
    "}\n",
    "Main.main(new String[0]);"
   ]
  },
  {
   "cell_type": "markdown",
   "id": "eb87cdf4",
   "metadata": {},
   "source": [
    "### 모범 코드"
   ]
  },
  {
   "cell_type": "code",
   "execution_count": 1,
   "id": "a64e24c7",
   "metadata": {},
   "outputs": [
    {
     "name": "stdout",
     "output_type": "stream",
     "text": [
      "2\n"
     ]
    }
   ],
   "source": []
  },
  {
   "cell_type": "markdown",
   "id": "2bf4a7e5",
   "metadata": {},
   "source": [
    "### 4. 연습문제: 분해합 https://www.acmicpc.net/problem/2231\n",
    "<div class=\"alert alert-block\" style=\"border: 2px solid #E65100;background-color:#FFF3E0;padding:10px\">\n",
    "<font size=\"4em\" style=\"color:#BF360C;\">완전 탐색 (Brute-force) 문제는 특별한 코딩 패턴이 있기보다는, </font><br>\n",
    "<font size=\"4em\" style=\"color:#BF360C;\">문제를 기반으로 단지, 반복문으로 구현을 하는 작업에 가까움</font>\n",
    "</div>"
   ]
  },
  {
   "cell_type": "code",
   "execution_count": 11,
   "id": "f8ee96ca",
   "metadata": {},
   "outputs": [
    {
     "name": "stdout",
     "output_type": "stream",
     "text": [
      "198\n"
     ]
    }
   ],
   "source": []
  },
  {
   "cell_type": "markdown",
   "id": "ea5b5f37",
   "metadata": {},
   "source": [
    "### 5. 연습문제: 예산 https://www.acmicpc.net/problem/2512\n",
    "<div class=\"alert alert-block\" style=\"border: 2px solid #E65100;background-color:#FFF3E0;padding:10px\">\n",
    "<font size=\"4em\" style=\"color:#BF360C;\">이진 탐색 문제 예</font>\n",
    "</div>\n",
    "<div class=\"alert alert-block\" style=\"border: 2px solid #E65100;background-color:#FFF3E0;padding:10px\">\n",
    "<font size=\"4em\" style=\"color:#BF360C;\">완전 탐색 (Brute-force) 로 접근하면 안되는 이유: 시간 초과 </font>\n",
    "</div>"
   ]
  },
  {
   "cell_type": "code",
   "execution_count": null,
   "id": "e0939b08",
   "metadata": {},
   "outputs": [],
   "source": []
  },
  {
   "cell_type": "markdown",
   "id": "af130780",
   "metadata": {
    "pycharm": {
     "name": "#%% md\n"
    }
   },
   "source": [
    "### 6. 연습문제: 수 찾기 https://www.acmicpc.net/problem/1920\n",
    "<div class=\"alert alert-block\" style=\"border: 2px solid #E65100;background-color:#FFF3E0;padding:10px\">\n",
    "<font size=\"4em\" style=\"color:#BF360C;\">이진 탐색 문제 예</font>\n",
    "</div>"
   ]
  },
  {
   "cell_type": "markdown",
   "id": "335a785c",
   "metadata": {},
   "source": [
    "<div class=\"alert alert-block\" style=\"border: 2px solid #E65100;background-color:#FFF3E0;padding:10px\">\n",
    "<font size=\"4em\" style=\"color:#BF360C;\">이진 탐색으로 작성해보기</font>\n",
    "</div>"
   ]
  },
  {
   "cell_type": "code",
   "execution_count": null,
   "id": "188ae9cc",
   "metadata": {},
   "outputs": [],
   "source": []
  },
  {
   "cell_type": "code",
   "execution_count": null,
   "id": "13b07663",
   "metadata": {},
   "outputs": [],
   "source": []
  },
  {
   "cell_type": "markdown",
   "id": "70d1b760",
   "metadata": {},
   "source": [
    "### 7. 연습문제: 나무 자르기 https://www.acmicpc.net/problem/2805"
   ]
  },
  {
   "cell_type": "markdown",
   "id": "e065c2d7",
   "metadata": {},
   "source": [
    "<div class=\"alert alert-block\" style=\"border: 2px solid #E65100;background-color:#FFF3E0;padding:10px\">\n",
    "<font size=\"4em\" style=\"color:#BF360C;\">이진 탐색 문제 예</font>\n",
    "</div>\n",
    "<div class=\"alert alert-block\" style=\"border: 2px solid #E65100;background-color:#FFF3E0;padding:10px\">\n",
    "<font size=\"4em\" style=\"color:#BF360C;\">이진 탐색으로 풀지 않으면 시간 초과 </foynt>\n",
    "</div>"
   ]
  },
  {
   "cell_type": "code",
   "execution_count": null,
   "id": "bd168f36",
   "metadata": {},
   "outputs": [],
   "source": []
  },
  {
   "cell_type": "markdown",
   "id": "1c7bc947",
   "metadata": {},
   "source": [
    "### 8. 공유기 설치 https://www.acmicpc.net/problem/2110"
   ]
  },
  {
   "cell_type": "markdown",
   "id": "b45ad1dd",
   "metadata": {},
   "source": [
    "<div class=\"alert alert-block\" style=\"border: 2px solid #E65100;background-color:#FFF3E0;padding:10px\">\n",
    "<font size=\"4em\" style=\"color:#BF360C;\">이진 탐색 문제 예</font>\n",
    "</div>\n",
    "<div class=\"alert alert-block\" style=\"border: 2px solid #E65100;background-color:#FFF3E0;padding:10px\">\n",
    "<font size=\"4em\" style=\"color:#BF360C;\">이진 탐색으로 풀지 않으면 시간 초과 </foynt>\n",
    "</div>"
   ]
  },
  {
   "cell_type": "code",
   "execution_count": null,
   "id": "f861e6f6",
   "metadata": {},
   "outputs": [],
   "source": []
  },
  {
   "cell_type": "markdown",
   "id": "8225d755",
   "metadata": {},
   "source": [
    "### 9. 연습문제: 수들의 합 2 https://www.acmicpc.net/problem/2003"
   ]
  },
  {
   "cell_type": "markdown",
   "id": "ab2a212a",
   "metadata": {},
   "source": [
    "<div class=\"alert alert-block\" style=\"border: 2px solid #E65100;background-color:#FFF3E0;padding:10px\">\n",
    "<font size=\"4em\" style=\"color:#BF360C;\">투 포인터 문제 예</font>\n",
    "</div>"
   ]
  },
  {
   "cell_type": "markdown",
   "id": "66c010ac",
   "metadata": {},
   "source": [
    "- 투 포인터 알고리즘\n",
    "   - 리스트에 순차적으로 접근해야 할 때, 두 개의 점(보통 start, end 또는 left, right)의 위치를 기록하며 처리하는 알고리즘\n",
    "   - 이를 통해 보통 $O(N^2)$ 이상으로 해결해야하는 문제를 $O(N)$ 으로 해결해주는 문제\n",
    "   - 이미 익힌 병합정렬 알고리즘이 투포인터 알고리즘을 기반으로 만들어졌다고 보면 됨\n",
    "- 투 포인터는 최근 코딩 테스트에서 많이 나왔던 유형 \n",
    "   - 유명한 유형이 아님에도, 최근 대기업, IT 스타트업 코딩 테스트에서 나온 케이스가 많았음\n",
    "- 투 포인터는 다양한 변형이 있을 수 있지만, 기본적으로는 연속되는 value들을 이용하여 특정 목표에 맞는 값을 찾아주는 개념\n",
    "  - 투 포인터는 비교적 간단한 알고리즘이지만 강력한 개념\n",
    "     - 특별한 알고리즘 유형이라고 보기보다는 개념이 더 알맞아보임\n",
    "     - 두 개의 인덱스를 사용해서 답을 구하는 전략  "
   ]
  },
  {
   "cell_type": "code",
   "execution_count": null,
   "id": "4e46130e",
   "metadata": {},
   "outputs": [],
   "source": []
  },
  {
   "cell_type": "markdown",
   "id": "8cbff4c7",
   "metadata": {},
   "source": [
    "### 10. 연습문제: 부분합 https://www.acmicpc.net/problem/1806"
   ]
  },
  {
   "cell_type": "markdown",
   "id": "a5bf1fb4",
   "metadata": {},
   "source": [
    "<div class=\"alert alert-block\" style=\"border: 2px solid #E65100;background-color:#FFF3E0;padding:10px\">\n",
    "<font size=\"4em\" style=\"color:#BF360C;\">투 포인터로도 풀 수 있음</font>\n",
    "</div>"
   ]
  },
  {
   "cell_type": "code",
   "execution_count": null,
   "id": "ba5371c7",
   "metadata": {},
   "outputs": [],
   "source": []
  },
  {
   "cell_type": "markdown",
   "id": "fe9dbb01",
   "metadata": {},
   "source": [
    "### 11. 수 고르기 https://www.acmicpc.net/problem/2230"
   ]
  },
  {
   "cell_type": "markdown",
   "id": "09f8cdad",
   "metadata": {},
   "source": [
    "<div class=\"alert alert-block\" style=\"border: 2px solid #E65100;background-color:#FFF3E0;padding:10px\">\n",
    "<font size=\"4em\" style=\"color:#BF360C;\">투 포인터 문제 예</font>\n",
    "</div>"
   ]
  },
  {
   "cell_type": "code",
   "execution_count": null,
   "id": "6ba12685",
   "metadata": {},
   "outputs": [],
   "source": []
  }
 ],
 "metadata": {
  "kernelspec": {
   "display_name": "Java",
   "language": "java",
   "name": "java"
  },
  "language_info": {
   "codemirror_mode": "java",
   "file_extension": ".jshell",
   "mimetype": "text/x-java-source",
   "name": "Java",
   "pygments_lexer": "java",
   "version": "15.0.2+7-27"
  }
 },
 "nbformat": 4,
 "nbformat_minor": 5
}
